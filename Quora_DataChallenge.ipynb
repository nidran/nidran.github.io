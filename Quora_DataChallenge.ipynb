{
 "cells": [
  {
   "cell_type": "markdown",
   "metadata": {
    "id": "benhw4HSH16e"
   },
   "source": [
    "## Improving User Engagement on Quora Mobile App\n",
    "\n",
    "Suppose you are a Data Scientist on the Mobile team at Quora. The team has just introduced a new UI design to the Quora app. The goal of the new design is to increase user engagement (measured by minutes spent on site). The team ran an A/B test to evaluate the change. Using the data, help the team understand the impact of the UI change better.\n",
    "\n",
    "Tables provided are as follows:\n",
    "    1. t1_user_active_min.csv\n",
    "    2. t2_user_variant.csv\n",
    "    3. t3_user_active_min_pre.csv\n",
    "    4. t4_user_attributes.csv"
   ]
  },
  {
   "cell_type": "code",
   "execution_count": null,
   "metadata": {
    "id": "SL3BEOnoH16g"
   },
   "outputs": [],
   "source": [
    "import pandas as pd\n",
    "import numpy as np\n",
    "import matplotlib.pyplot as plt\n",
    "import seaborn as sns\n",
    "from datetime import datetime as dt\n",
    "from datetime import timedelta\n",
    "from IPython.core.interactiveshell import InteractiveShell\n",
    "InteractiveShell.ast_node_interactivity = \"all\"\n",
    "%matplotlib inline\n",
    "pd.set_option('float_format', '{:f}'.format)\n",
    "\n",
    "from scipy import stats\n",
    "from scipy.stats import ttest_ind_from_stats\n",
    "from statsmodels.stats.power import TTestIndPower"
   ]
  },
  {
   "cell_type": "code",
   "execution_count": null,
   "metadata": {
    "id": "8-MjGb9VH16p"
   },
   "outputs": [],
   "source": [
    "t1_usr_active_min = pd.read_csv(\"t1_user_active_min.csv\")\n",
    "t2_usr_variant = pd.read_csv(\"t2_user_variant.csv\")\n",
    "t3_usr_active_min_pre = pd.read_csv(\"t3_user_active_min_pre.csv\")\n",
    "t4_usr_attributes = pd.read_csv(\"t4_user_attributes.csv\")"
   ]
  },
  {
   "cell_type": "code",
   "execution_count": null,
   "metadata": {
    "colab": {
     "base_uri": "https://localhost:8080/",
     "height": 467
    },
    "id": "IGJqDheNH16z",
    "outputId": "23f63225-e3ef-442f-93e8-d68bfc2e0475"
   },
   "outputs": [
    {
     "name": "stdout",
     "output_type": "stream",
     "text": [
      "t1_user_active_min\n"
     ]
    },
    {
     "data": {
      "text/html": [
       "<div>\n",
       "<style scoped>\n",
       "    .dataframe tbody tr th:only-of-type {\n",
       "        vertical-align: middle;\n",
       "    }\n",
       "\n",
       "    .dataframe tbody tr th {\n",
       "        vertical-align: top;\n",
       "    }\n",
       "\n",
       "    .dataframe thead th {\n",
       "        text-align: right;\n",
       "    }\n",
       "</style>\n",
       "<table border=\"1\" class=\"dataframe\">\n",
       "  <thead>\n",
       "    <tr style=\"text-align: right;\">\n",
       "      <th></th>\n",
       "      <th>uid</th>\n",
       "      <th>dt</th>\n",
       "      <th>active_mins</th>\n",
       "    </tr>\n",
       "  </thead>\n",
       "  <tbody>\n",
       "    <tr>\n",
       "      <th>0</th>\n",
       "      <td>0</td>\n",
       "      <td>2019-02-22</td>\n",
       "      <td>5.000000</td>\n",
       "    </tr>\n",
       "    <tr>\n",
       "      <th>1</th>\n",
       "      <td>0</td>\n",
       "      <td>2019-03-11</td>\n",
       "      <td>5.000000</td>\n",
       "    </tr>\n",
       "  </tbody>\n",
       "</table>\n",
       "</div>"
      ],
      "text/plain": [
       "   uid          dt  active_mins\n",
       "0    0  2019-02-22     5.000000\n",
       "1    0  2019-03-11     5.000000"
      ]
     },
     "execution_count": 10,
     "metadata": {
      "tags": []
     },
     "output_type": "execute_result"
    },
    {
     "name": "stdout",
     "output_type": "stream",
     "text": [
      "t2_user_variant\n"
     ]
    },
    {
     "data": {
      "text/html": [
       "<div>\n",
       "<style scoped>\n",
       "    .dataframe tbody tr th:only-of-type {\n",
       "        vertical-align: middle;\n",
       "    }\n",
       "\n",
       "    .dataframe tbody tr th {\n",
       "        vertical-align: top;\n",
       "    }\n",
       "\n",
       "    .dataframe thead th {\n",
       "        text-align: right;\n",
       "    }\n",
       "</style>\n",
       "<table border=\"1\" class=\"dataframe\">\n",
       "  <thead>\n",
       "    <tr style=\"text-align: right;\">\n",
       "      <th></th>\n",
       "      <th>uid</th>\n",
       "      <th>variant_number</th>\n",
       "      <th>dt</th>\n",
       "      <th>signup_date</th>\n",
       "    </tr>\n",
       "  </thead>\n",
       "  <tbody>\n",
       "    <tr>\n",
       "      <th>0</th>\n",
       "      <td>0</td>\n",
       "      <td>0</td>\n",
       "      <td>2019-02-06</td>\n",
       "      <td>2018-09-24</td>\n",
       "    </tr>\n",
       "    <tr>\n",
       "      <th>1</th>\n",
       "      <td>1</td>\n",
       "      <td>0</td>\n",
       "      <td>2019-02-06</td>\n",
       "      <td>2016-11-07</td>\n",
       "    </tr>\n",
       "  </tbody>\n",
       "</table>\n",
       "</div>"
      ],
      "text/plain": [
       "   uid  variant_number          dt signup_date\n",
       "0    0               0  2019-02-06  2018-09-24\n",
       "1    1               0  2019-02-06  2016-11-07"
      ]
     },
     "execution_count": 10,
     "metadata": {
      "tags": []
     },
     "output_type": "execute_result"
    },
    {
     "name": "stdout",
     "output_type": "stream",
     "text": [
      "t3_user_active_min_pre\n"
     ]
    },
    {
     "data": {
      "text/html": [
       "<div>\n",
       "<style scoped>\n",
       "    .dataframe tbody tr th:only-of-type {\n",
       "        vertical-align: middle;\n",
       "    }\n",
       "\n",
       "    .dataframe tbody tr th {\n",
       "        vertical-align: top;\n",
       "    }\n",
       "\n",
       "    .dataframe thead th {\n",
       "        text-align: right;\n",
       "    }\n",
       "</style>\n",
       "<table border=\"1\" class=\"dataframe\">\n",
       "  <thead>\n",
       "    <tr style=\"text-align: right;\">\n",
       "      <th></th>\n",
       "      <th>uid</th>\n",
       "      <th>dt</th>\n",
       "      <th>active_mins</th>\n",
       "    </tr>\n",
       "  </thead>\n",
       "  <tbody>\n",
       "    <tr>\n",
       "      <th>0</th>\n",
       "      <td>0</td>\n",
       "      <td>2018-09-24</td>\n",
       "      <td>3.000000</td>\n",
       "    </tr>\n",
       "    <tr>\n",
       "      <th>1</th>\n",
       "      <td>0</td>\n",
       "      <td>2018-11-08</td>\n",
       "      <td>4.000000</td>\n",
       "    </tr>\n",
       "  </tbody>\n",
       "</table>\n",
       "</div>"
      ],
      "text/plain": [
       "   uid          dt  active_mins\n",
       "0    0  2018-09-24     3.000000\n",
       "1    0  2018-11-08     4.000000"
      ]
     },
     "execution_count": 10,
     "metadata": {
      "tags": []
     },
     "output_type": "execute_result"
    },
    {
     "name": "stdout",
     "output_type": "stream",
     "text": [
      "t4_user_attributes\n"
     ]
    },
    {
     "data": {
      "text/html": [
       "<div>\n",
       "<style scoped>\n",
       "    .dataframe tbody tr th:only-of-type {\n",
       "        vertical-align: middle;\n",
       "    }\n",
       "\n",
       "    .dataframe tbody tr th {\n",
       "        vertical-align: top;\n",
       "    }\n",
       "\n",
       "    .dataframe thead th {\n",
       "        text-align: right;\n",
       "    }\n",
       "</style>\n",
       "<table border=\"1\" class=\"dataframe\">\n",
       "  <thead>\n",
       "    <tr style=\"text-align: right;\">\n",
       "      <th></th>\n",
       "      <th>uid</th>\n",
       "      <th>gender</th>\n",
       "      <th>user_type</th>\n",
       "    </tr>\n",
       "  </thead>\n",
       "  <tbody>\n",
       "    <tr>\n",
       "      <th>0</th>\n",
       "      <td>0</td>\n",
       "      <td>male</td>\n",
       "      <td>non_reader</td>\n",
       "    </tr>\n",
       "    <tr>\n",
       "      <th>1</th>\n",
       "      <td>1</td>\n",
       "      <td>male</td>\n",
       "      <td>reader</td>\n",
       "    </tr>\n",
       "  </tbody>\n",
       "</table>\n",
       "</div>"
      ],
      "text/plain": [
       "   uid gender   user_type\n",
       "0    0   male  non_reader\n",
       "1    1   male      reader"
      ]
     },
     "execution_count": 10,
     "metadata": {
      "tags": []
     },
     "output_type": "execute_result"
    }
   ],
   "source": [
    "print(\"t1_user_active_min\")\n",
    "t1_usr_active_min.head(2)\n",
    "print(\"t2_user_variant\")\n",
    "t2_usr_variant.head(2)\n",
    "print(\"t3_user_active_min_pre\")\n",
    "t3_usr_active_min_pre.head(2)\n",
    "print(\"t4_user_attributes\")\n",
    "t4_usr_attributes.head(2)"
   ]
  },
  {
   "cell_type": "code",
   "execution_count": null,
   "metadata": {
    "colab": {
     "base_uri": "https://localhost:8080/"
    },
    "id": "XyB9gGIqH166",
    "outputId": "22811a79-8101-4e8e-81d7-a1090a86e1e6"
   },
   "outputs": [
    {
     "name": "stdout",
     "output_type": "stream",
     "text": [
      "Pre Experiments date range: 2018-08-10  -  2019-02-06\n",
      "Duration of Experiment: 2019-02-06  -  2019-07-05\n",
      "Experiment Duration(Days): 150\n"
     ]
    }
   ],
   "source": [
    "print(\"Pre Experiments date range:\", t3_usr_active_min_pre.dt.min(),\" - \",t2_usr_variant.dt.max())\n",
    "print(\"Duration of Experiment:\",t1_usr_active_min.dt.min(),\" - \", t1_usr_active_min.dt.max())\n",
    "\n",
    "delta = dt.strptime(t1_usr_active_min.dt.max(),\"%Y-%m-%d\")-dt.strptime(t1_usr_active_min.dt.min(),\"%Y-%m-%d\")\n",
    "print(\"Experiment Duration(Days):\",delta.days+1)"
   ]
  },
  {
   "cell_type": "markdown",
   "metadata": {
    "id": "n4dMiSyAH17A"
   },
   "source": [
    "### Exploring User Distribtion for control & treatment group"
   ]
  },
  {
   "cell_type": "code",
   "execution_count": null,
   "metadata": {
    "colab": {
     "base_uri": "https://localhost:8080/"
    },
    "id": "_ovmUwDPH17C",
    "outputId": "4aff20e5-aa36-4401-c8b1-88b76f918e56"
   },
   "outputs": [
    {
     "data": {
      "text/plain": [
       "0    40000\n",
       "1    10000\n",
       "Name: variant_number, dtype: int64"
      ]
     },
     "execution_count": 12,
     "metadata": {
      "tags": []
     },
     "output_type": "execute_result"
    },
    {
     "name": "stdout",
     "output_type": "stream",
     "text": [
      "Train - Test ratio: 80% - 20%\n"
     ]
    }
   ],
   "source": [
    "t2_usr_variant['variant_number'].value_counts()\n",
    "print(\"Train - Test ratio: 80% - 20%\")"
   ]
  },
  {
   "cell_type": "code",
   "execution_count": null,
   "metadata": {
    "colab": {
     "base_uri": "https://localhost:8080/"
    },
    "id": "bAO0I8PIH17I",
    "outputId": "4cfcd5a8-76ba-4c04-cecc-5420aa4c847e"
   },
   "outputs": [
    {
     "data": {
      "text/plain": [
       "50000"
      ]
     },
     "execution_count": 13,
     "metadata": {
      "tags": []
     },
     "output_type": "execute_result"
    },
    {
     "data": {
      "text/plain": [
       "46633"
      ]
     },
     "execution_count": 13,
     "metadata": {
      "tags": []
     },
     "output_type": "execute_result"
    },
    {
     "data": {
      "text/plain": [
       "49697"
      ]
     },
     "execution_count": 13,
     "metadata": {
      "tags": []
     },
     "output_type": "execute_result"
    }
   ],
   "source": [
    "## Checking no. of unique users\n",
    "t2_usr_variant.uid.nunique()\n",
    "t1_usr_active_min.uid.nunique()\n",
    "t3_usr_active_min_pre.uid.nunique()"
   ]
  },
  {
   "cell_type": "markdown",
   "metadata": {
    "id": "g5rRu8HxH17N"
   },
   "source": [
    "### Preparing a master table with user\n",
    "\n",
    "Preparing now a master table with these following important user informations: User Daily Activity (uid, active_min), \n",
    "User Signup, User Variant Number, User characteristics (gender, user_types). Motive to prepare this dataset is to have table with complete user details and use this for hypothesis testing and further insights.\n",
    "\n",
    "<b>I have specifically done  a left join of t2_usr_varient table with t1_usr_active_min so as to preserve the activity (or non-activity) of all the 50000 users who are are part of the control & treatment group.</b>"
   ]
  },
  {
   "cell_type": "code",
   "execution_count": null,
   "metadata": {
    "colab": {
     "base_uri": "https://localhost:8080/",
     "height": 129
    },
    "id": "g9owIMgfH17N",
    "outputId": "476be48a-2365-4f00-a5d5-0b96ae128284"
   },
   "outputs": [
    {
     "data": {
      "text/plain": [
       "(1069769, 8)"
      ]
     },
     "execution_count": 14,
     "metadata": {
      "tags": []
     },
     "output_type": "execute_result"
    },
    {
     "data": {
      "text/plain": [
       "50000"
      ]
     },
     "execution_count": 14,
     "metadata": {
      "tags": []
     },
     "output_type": "execute_result"
    },
    {
     "data": {
      "text/html": [
       "<div>\n",
       "<style scoped>\n",
       "    .dataframe tbody tr th:only-of-type {\n",
       "        vertical-align: middle;\n",
       "    }\n",
       "\n",
       "    .dataframe tbody tr th {\n",
       "        vertical-align: top;\n",
       "    }\n",
       "\n",
       "    .dataframe thead th {\n",
       "        text-align: right;\n",
       "    }\n",
       "</style>\n",
       "<table border=\"1\" class=\"dataframe\">\n",
       "  <thead>\n",
       "    <tr style=\"text-align: right;\">\n",
       "      <th></th>\n",
       "      <th>uid</th>\n",
       "      <th>variant_number</th>\n",
       "      <th>dt_x</th>\n",
       "      <th>signup_date</th>\n",
       "      <th>dt_y</th>\n",
       "      <th>active_mins</th>\n",
       "      <th>gender</th>\n",
       "      <th>user_type</th>\n",
       "    </tr>\n",
       "  </thead>\n",
       "  <tbody>\n",
       "    <tr>\n",
       "      <th>0</th>\n",
       "      <td>0</td>\n",
       "      <td>0</td>\n",
       "      <td>2019-02-06</td>\n",
       "      <td>2018-09-24</td>\n",
       "      <td>2019-02-22</td>\n",
       "      <td>5.000000</td>\n",
       "      <td>male</td>\n",
       "      <td>non_reader</td>\n",
       "    </tr>\n",
       "    <tr>\n",
       "      <th>1</th>\n",
       "      <td>0</td>\n",
       "      <td>0</td>\n",
       "      <td>2019-02-06</td>\n",
       "      <td>2018-09-24</td>\n",
       "      <td>2019-03-11</td>\n",
       "      <td>5.000000</td>\n",
       "      <td>male</td>\n",
       "      <td>non_reader</td>\n",
       "    </tr>\n",
       "  </tbody>\n",
       "</table>\n",
       "</div>"
      ],
      "text/plain": [
       "   uid  variant_number        dt_x  ... active_mins gender   user_type\n",
       "0    0               0  2019-02-06  ...    5.000000   male  non_reader\n",
       "1    0               0  2019-02-06  ...    5.000000   male  non_reader\n",
       "\n",
       "[2 rows x 8 columns]"
      ]
     },
     "execution_count": 14,
     "metadata": {
      "tags": []
     },
     "output_type": "execute_result"
    }
   ],
   "source": [
    "usr_postexp_df = pd.merge(t2_usr_variant,t1_usr_active_min, on='uid', how='left')\n",
    "usr_postexp_df = pd.merge(usr_postexp_df,t4_usr_attributes, on='uid', how='left')\n",
    "usr_postexp_df.shape\n",
    "usr_postexp_df.uid.nunique()\n",
    "usr_postexp_df.head(2)"
   ]
  },
  {
   "cell_type": "code",
   "execution_count": null,
   "metadata": {
    "id": "M4eN8DpKH17S"
   },
   "outputs": [],
   "source": [
    "usr_postexp_df.rename(columns={'dt_x':'experiement_dt','dt_y':'dt'}, inplace=True )"
   ]
  },
  {
   "cell_type": "markdown",
   "metadata": {
    "id": "H-Zdi_KPH17X"
   },
   "source": [
    "### We know that the expriment was live for 150 days, so I am checking in the following codes if the user were active daily or not. My motive is to have an apple to apple comparison for same no of days, the mean active mins for control and treatment group"
   ]
  },
  {
   "cell_type": "code",
   "execution_count": null,
   "metadata": {
    "colab": {
     "base_uri": "https://localhost:8080/",
     "height": 458
    },
    "id": "0zh2I0OEH17Y",
    "outputId": "24fd874c-1081-4eb4-8552-5fed0414e9d8"
   },
   "outputs": [
    {
     "data": {
      "text/html": [
       "<div>\n",
       "<style scoped>\n",
       "    .dataframe tbody tr th:only-of-type {\n",
       "        vertical-align: middle;\n",
       "    }\n",
       "\n",
       "    .dataframe tbody tr th {\n",
       "        vertical-align: top;\n",
       "    }\n",
       "\n",
       "    .dataframe thead th {\n",
       "        text-align: right;\n",
       "    }\n",
       "</style>\n",
       "<table border=\"1\" class=\"dataframe\">\n",
       "  <thead>\n",
       "    <tr style=\"text-align: right;\">\n",
       "      <th></th>\n",
       "      <th>uid</th>\n",
       "      <th>variant_number</th>\n",
       "      <th>tot_days</th>\n",
       "      <th>tot_mins</th>\n",
       "    </tr>\n",
       "  </thead>\n",
       "  <tbody>\n",
       "    <tr>\n",
       "      <th>0</th>\n",
       "      <td>0</td>\n",
       "      <td>0</td>\n",
       "      <td>13</td>\n",
       "      <td>43.000000</td>\n",
       "    </tr>\n",
       "    <tr>\n",
       "      <th>1</th>\n",
       "      <td>1</td>\n",
       "      <td>0</td>\n",
       "      <td>95</td>\n",
       "      <td>15205.000000</td>\n",
       "    </tr>\n",
       "    <tr>\n",
       "      <th>2</th>\n",
       "      <td>2</td>\n",
       "      <td>0</td>\n",
       "      <td>7</td>\n",
       "      <td>17.000000</td>\n",
       "    </tr>\n",
       "    <tr>\n",
       "      <th>3</th>\n",
       "      <td>3</td>\n",
       "      <td>0</td>\n",
       "      <td>24</td>\n",
       "      <td>77.000000</td>\n",
       "    </tr>\n",
       "    <tr>\n",
       "      <th>4</th>\n",
       "      <td>4</td>\n",
       "      <td>0</td>\n",
       "      <td>20</td>\n",
       "      <td>39.000000</td>\n",
       "    </tr>\n",
       "  </tbody>\n",
       "</table>\n",
       "</div>"
      ],
      "text/plain": [
       "   uid  variant_number  tot_days     tot_mins\n",
       "0    0               0        13    43.000000\n",
       "1    1               0        95 15205.000000\n",
       "2    2               0         7    17.000000\n",
       "3    3               0        24    77.000000\n",
       "4    4               0        20    39.000000"
      ]
     },
     "execution_count": 16,
     "metadata": {
      "tags": []
     },
     "output_type": "execute_result"
    },
    {
     "data": {
      "text/plain": [
       "array([ 13,  95,   7,  24,  20,  14,   0,   9,  31,   6,   2,  12,  18,\n",
       "        89,  34,  10,  35,  33,  37,  81,  56,  17,  16,  21,  50,  30,\n",
       "         5,  25,   1,  15,   8,  62,  11,  54,   3,   4,  55,  59,  27,\n",
       "        40,  19,  58,  66,  64,  71,  29,  57,  41,  23, 103,  60,  80,\n",
       "        76,  38,  32,  84,  92,  39,  70,  74,  51,  45,  77,  22,  63,\n",
       "        75,  28,  72,  43,  53,  67,  26,  93,  88,  42,  36,  68,  91,\n",
       "        83,  49,  48,  47,  86,  97,  99,  65,  69,  82,  44, 102,  61,\n",
       "        98, 101,  46, 100,  85,  94,  78,  96,  52,  87,  79,  90,  73,\n",
       "       106, 104, 107, 105, 108, 110, 109])"
      ]
     },
     "execution_count": 16,
     "metadata": {
      "tags": []
     },
     "output_type": "execute_result"
    },
    {
     "data": {
      "text/html": [
       "<div>\n",
       "<style scoped>\n",
       "    .dataframe tbody tr th:only-of-type {\n",
       "        vertical-align: middle;\n",
       "    }\n",
       "\n",
       "    .dataframe tbody tr th {\n",
       "        vertical-align: top;\n",
       "    }\n",
       "\n",
       "    .dataframe thead th {\n",
       "        text-align: right;\n",
       "    }\n",
       "</style>\n",
       "<table border=\"1\" class=\"dataframe\">\n",
       "  <thead>\n",
       "    <tr style=\"text-align: right;\">\n",
       "      <th></th>\n",
       "      <th>variant_number</th>\n",
       "      <th>tot_days</th>\n",
       "      <th>tot_mins</th>\n",
       "    </tr>\n",
       "  </thead>\n",
       "  <tbody>\n",
       "    <tr>\n",
       "      <th>0</th>\n",
       "      <td>0</td>\n",
       "      <td>22.173925</td>\n",
       "      <td>783.719625</td>\n",
       "    </tr>\n",
       "    <tr>\n",
       "      <th>1</th>\n",
       "      <td>1</td>\n",
       "      <td>17.944500</td>\n",
       "      <td>722.094000</td>\n",
       "    </tr>\n",
       "  </tbody>\n",
       "</table>\n",
       "</div>"
      ],
      "text/plain": [
       "   variant_number  tot_days   tot_mins\n",
       "0               0 22.173925 783.719625\n",
       "1               1 17.944500 722.094000"
      ]
     },
     "execution_count": 16,
     "metadata": {
      "tags": []
     },
     "output_type": "execute_result"
    }
   ],
   "source": [
    "temp = usr_postexp_df.groupby(['uid','variant_number'], as_index=False).agg({'dt':'count','active_mins': 'sum'})\n",
    "temp.rename(columns={'active_mins': 'tot_mins','dt': 'tot_days'},inplace=True)\n",
    "temp.head()\n",
    "temp.tot_days.unique()\n",
    "temp.groupby(['variant_number'], as_index=False).agg({'tot_days':'mean','tot_mins':'mean'})"
   ]
  },
  {
   "cell_type": "markdown",
   "metadata": {
    "id": "wKmVp66eH17b"
   },
   "source": [
    "### Thus, from the above two aggregates function we see that no user (either 0/1 variant) was present for all single day of the experiment. Also the mean days control & treatment group users were active is 22 and 18 days respectively. Thus we now need to populate the above table for each day of the experiement and compare the means of the two groups\n",
    "\n",
    "### Also from the last table, we see that there is a difference between the average tot_mins spend by users in control and treatment groups, but we need to be check if there are many outliers (like15202.0) misrepresenting this number.\n",
    "\n",
    "## Outlier Treatment\n",
    "\n",
    "From the `usr_postexp_df` df, only column 'active_mins' has outliers in it. Since a day has maximum 1440 mins, therefore I am removing all the entries with values greater than 1500 mins (taken a buffer of 60 mins more)"
   ]
  },
  {
   "cell_type": "code",
   "execution_count": null,
   "metadata": {
    "colab": {
     "base_uri": "https://localhost:8080/",
     "height": 318
    },
    "id": "v4I__vxfH17d",
    "outputId": "18b09d8a-116c-47d5-f942-97f294b23160"
   },
   "outputs": [
    {
     "data": {
      "text/html": [
       "<div>\n",
       "<style scoped>\n",
       "    .dataframe tbody tr th:only-of-type {\n",
       "        vertical-align: middle;\n",
       "    }\n",
       "\n",
       "    .dataframe tbody tr th {\n",
       "        vertical-align: top;\n",
       "    }\n",
       "\n",
       "    .dataframe thead th {\n",
       "        text-align: right;\n",
       "    }\n",
       "</style>\n",
       "<table border=\"1\" class=\"dataframe\">\n",
       "  <thead>\n",
       "    <tr style=\"text-align: right;\">\n",
       "      <th></th>\n",
       "      <th>uid</th>\n",
       "      <th>variant_number</th>\n",
       "      <th>active_mins</th>\n",
       "    </tr>\n",
       "  </thead>\n",
       "  <tbody>\n",
       "    <tr>\n",
       "      <th>count</th>\n",
       "      <td>1069769.000000</td>\n",
       "      <td>1069769.000000</td>\n",
       "      <td>1066402.000000</td>\n",
       "    </tr>\n",
       "    <tr>\n",
       "      <th>mean</th>\n",
       "      <td>24226.815362</td>\n",
       "      <td>0.168482</td>\n",
       "      <td>36.168091</td>\n",
       "    </tr>\n",
       "    <tr>\n",
       "      <th>std</th>\n",
       "      <td>14175.415856</td>\n",
       "      <td>0.374294</td>\n",
       "      <td>1270.483515</td>\n",
       "    </tr>\n",
       "    <tr>\n",
       "      <th>min</th>\n",
       "      <td>0.000000</td>\n",
       "      <td>0.000000</td>\n",
       "      <td>1.000000</td>\n",
       "    </tr>\n",
       "    <tr>\n",
       "      <th>25%</th>\n",
       "      <td>12023.000000</td>\n",
       "      <td>0.000000</td>\n",
       "      <td>2.000000</td>\n",
       "    </tr>\n",
       "    <tr>\n",
       "      <th>50%</th>\n",
       "      <td>23945.000000</td>\n",
       "      <td>0.000000</td>\n",
       "      <td>5.000000</td>\n",
       "    </tr>\n",
       "    <tr>\n",
       "      <th>75%</th>\n",
       "      <td>36186.000000</td>\n",
       "      <td>0.000000</td>\n",
       "      <td>17.000000</td>\n",
       "    </tr>\n",
       "    <tr>\n",
       "      <th>max</th>\n",
       "      <td>49999.000000</td>\n",
       "      <td>1.000000</td>\n",
       "      <td>99999.000000</td>\n",
       "    </tr>\n",
       "  </tbody>\n",
       "</table>\n",
       "</div>"
      ],
      "text/plain": [
       "                 uid  variant_number    active_mins\n",
       "count 1069769.000000  1069769.000000 1066402.000000\n",
       "mean    24226.815362        0.168482      36.168091\n",
       "std     14175.415856        0.374294    1270.483515\n",
       "min         0.000000        0.000000       1.000000\n",
       "25%     12023.000000        0.000000       2.000000\n",
       "50%     23945.000000        0.000000       5.000000\n",
       "75%     36186.000000        0.000000      17.000000\n",
       "max     49999.000000        1.000000   99999.000000"
      ]
     },
     "execution_count": 17,
     "metadata": {
      "tags": []
     },
     "output_type": "execute_result"
    },
    {
     "data": {
      "text/plain": [
       "(172, 8)"
      ]
     },
     "execution_count": 17,
     "metadata": {
      "tags": []
     },
     "output_type": "execute_result"
    },
    {
     "data": {
      "text/plain": [
       "(172, 8)"
      ]
     },
     "execution_count": 17,
     "metadata": {
      "tags": []
     },
     "output_type": "execute_result"
    }
   ],
   "source": [
    "usr_postexp_df.describe()\n",
    "#plt.hist(usr_postexp_df.active_mins)\n",
    "usr_postexp_df[usr_postexp_df.active_mins>=1500].shape\n",
    "usr_postexp_df[usr_postexp_df.active_mins==99999].shape"
   ]
  },
  {
   "cell_type": "code",
   "execution_count": null,
   "metadata": {
    "colab": {
     "base_uri": "https://localhost:8080/"
    },
    "id": "sGHuXTSCH17i",
    "outputId": "4dfb7b11-8e99-4c1a-d99e-27c7203b7277"
   },
   "outputs": [
    {
     "data": {
      "text/plain": [
       "(1069769, 8)"
      ]
     },
     "execution_count": 18,
     "metadata": {
      "tags": []
     },
     "output_type": "execute_result"
    },
    {
     "data": {
      "text/plain": [
       "172"
      ]
     },
     "execution_count": 18,
     "metadata": {
      "tags": []
     },
     "output_type": "execute_result"
    }
   ],
   "source": [
    "usr_postexp_df.shape\n",
    "temp = usr_postexp_df['active_mins'] >=1500\n",
    "usr_postexp_df2 = usr_postexp_df[~temp]\n",
    "usr_postexp_df.shape[0]-usr_postexp_df2.shape[0]"
   ]
  },
  {
   "cell_type": "markdown",
   "metadata": {
    "id": "JGFLMyjhH17l"
   },
   "source": [
    "Thus we have removed the outlier values: 172 entries with active_mins >=1500 mins"
   ]
  },
  {
   "cell_type": "code",
   "execution_count": null,
   "metadata": {
    "colab": {
     "base_uri": "https://localhost:8080/",
     "height": 363
    },
    "id": "96vgcmHNH17m",
    "outputId": "f9e6b457-db3a-4f10-a0a4-38467f5338c5"
   },
   "outputs": [
    {
     "data": {
      "text/html": [
       "<div>\n",
       "<style scoped>\n",
       "    .dataframe tbody tr th:only-of-type {\n",
       "        vertical-align: middle;\n",
       "    }\n",
       "\n",
       "    .dataframe tbody tr th {\n",
       "        vertical-align: top;\n",
       "    }\n",
       "\n",
       "    .dataframe thead th {\n",
       "        text-align: right;\n",
       "    }\n",
       "</style>\n",
       "<table border=\"1\" class=\"dataframe\">\n",
       "  <thead>\n",
       "    <tr style=\"text-align: right;\">\n",
       "      <th></th>\n",
       "      <th>uid</th>\n",
       "      <th>variant_number</th>\n",
       "      <th>experiement_dt</th>\n",
       "      <th>signup_date</th>\n",
       "      <th>dt</th>\n",
       "      <th>active_mins</th>\n",
       "      <th>gender</th>\n",
       "      <th>user_type</th>\n",
       "    </tr>\n",
       "  </thead>\n",
       "  <tbody>\n",
       "    <tr>\n",
       "      <th>0</th>\n",
       "      <td>0</td>\n",
       "      <td>0</td>\n",
       "      <td>2019-02-06</td>\n",
       "      <td>2018-09-24</td>\n",
       "      <td>2019-02-22</td>\n",
       "      <td>5.000000</td>\n",
       "      <td>male</td>\n",
       "      <td>non_reader</td>\n",
       "    </tr>\n",
       "    <tr>\n",
       "      <th>1</th>\n",
       "      <td>0</td>\n",
       "      <td>0</td>\n",
       "      <td>2019-02-06</td>\n",
       "      <td>2018-09-24</td>\n",
       "      <td>2019-03-11</td>\n",
       "      <td>5.000000</td>\n",
       "      <td>male</td>\n",
       "      <td>non_reader</td>\n",
       "    </tr>\n",
       "    <tr>\n",
       "      <th>2</th>\n",
       "      <td>0</td>\n",
       "      <td>0</td>\n",
       "      <td>2019-02-06</td>\n",
       "      <td>2018-09-24</td>\n",
       "      <td>2019-03-18</td>\n",
       "      <td>3.000000</td>\n",
       "      <td>male</td>\n",
       "      <td>non_reader</td>\n",
       "    </tr>\n",
       "    <tr>\n",
       "      <th>3</th>\n",
       "      <td>0</td>\n",
       "      <td>0</td>\n",
       "      <td>2019-02-06</td>\n",
       "      <td>2018-09-24</td>\n",
       "      <td>2019-03-22</td>\n",
       "      <td>4.000000</td>\n",
       "      <td>male</td>\n",
       "      <td>non_reader</td>\n",
       "    </tr>\n",
       "    <tr>\n",
       "      <th>4</th>\n",
       "      <td>0</td>\n",
       "      <td>0</td>\n",
       "      <td>2019-02-06</td>\n",
       "      <td>2018-09-24</td>\n",
       "      <td>2019-04-03</td>\n",
       "      <td>9.000000</td>\n",
       "      <td>male</td>\n",
       "      <td>non_reader</td>\n",
       "    </tr>\n",
       "  </tbody>\n",
       "</table>\n",
       "</div>"
      ],
      "text/plain": [
       "   uid  variant_number experiement_dt  ... active_mins gender   user_type\n",
       "0    0               0     2019-02-06  ...    5.000000   male  non_reader\n",
       "1    0               0     2019-02-06  ...    5.000000   male  non_reader\n",
       "2    0               0     2019-02-06  ...    3.000000   male  non_reader\n",
       "3    0               0     2019-02-06  ...    4.000000   male  non_reader\n",
       "4    0               0     2019-02-06  ...    9.000000   male  non_reader\n",
       "\n",
       "[5 rows x 8 columns]"
      ]
     },
     "execution_count": 19,
     "metadata": {
      "tags": []
     },
     "output_type": "execute_result"
    },
    {
     "data": {
      "text/plain": [
       "uid                  0\n",
       "variant_number       0\n",
       "experiement_dt       0\n",
       "signup_date          0\n",
       "dt                3367\n",
       "active_mins       3367\n",
       "gender               0\n",
       "user_type            0\n",
       "dtype: int64"
      ]
     },
     "execution_count": 19,
     "metadata": {
      "tags": []
     },
     "output_type": "execute_result"
    }
   ],
   "source": [
    "usr_postexp_df2.head()\n",
    "usr_postexp_df2.isna().sum()"
   ]
  },
  {
   "cell_type": "markdown",
   "metadata": {
    "id": "QArhIaduH17t"
   },
   "source": [
    "From the above NA value table, we see that there are around 3367 users for whom there is no activity even for a single day."
   ]
  },
  {
   "cell_type": "code",
   "execution_count": null,
   "metadata": {
    "colab": {
     "base_uri": "https://localhost:8080/",
     "height": 336
    },
    "id": "BXGNlVizH17t",
    "outputId": "631e4de1-1004-481b-fda6-0513463c9967"
   },
   "outputs": [
    {
     "data": {
      "text/plain": [
       "(3367, 8)"
      ]
     },
     "execution_count": 20,
     "metadata": {
      "tags": []
     },
     "output_type": "execute_result"
    },
    {
     "data": {
      "text/html": [
       "<div>\n",
       "<style scoped>\n",
       "    .dataframe tbody tr th:only-of-type {\n",
       "        vertical-align: middle;\n",
       "    }\n",
       "\n",
       "    .dataframe tbody tr th {\n",
       "        vertical-align: top;\n",
       "    }\n",
       "\n",
       "    .dataframe thead th {\n",
       "        text-align: right;\n",
       "    }\n",
       "</style>\n",
       "<table border=\"1\" class=\"dataframe\">\n",
       "  <thead>\n",
       "    <tr style=\"text-align: right;\">\n",
       "      <th></th>\n",
       "      <th>uid</th>\n",
       "      <th>variant_number</th>\n",
       "      <th>experiement_dt</th>\n",
       "      <th>signup_date</th>\n",
       "      <th>dt</th>\n",
       "      <th>active_mins</th>\n",
       "      <th>gender</th>\n",
       "      <th>user_type</th>\n",
       "    </tr>\n",
       "  </thead>\n",
       "  <tbody>\n",
       "    <tr>\n",
       "      <th>193</th>\n",
       "      <td>8</td>\n",
       "      <td>0</td>\n",
       "      <td>2019-02-06</td>\n",
       "      <td>2019-01-18</td>\n",
       "      <td>NaN</td>\n",
       "      <td>nan</td>\n",
       "      <td>male</td>\n",
       "      <td>new_user</td>\n",
       "    </tr>\n",
       "    <tr>\n",
       "      <th>258</th>\n",
       "      <td>12</td>\n",
       "      <td>0</td>\n",
       "      <td>2019-02-06</td>\n",
       "      <td>2017-04-20</td>\n",
       "      <td>NaN</td>\n",
       "      <td>nan</td>\n",
       "      <td>male</td>\n",
       "      <td>non_reader</td>\n",
       "    </tr>\n",
       "    <tr>\n",
       "      <th>797</th>\n",
       "      <td>35</td>\n",
       "      <td>0</td>\n",
       "      <td>2019-02-06</td>\n",
       "      <td>2019-01-25</td>\n",
       "      <td>NaN</td>\n",
       "      <td>nan</td>\n",
       "      <td>male</td>\n",
       "      <td>new_user</td>\n",
       "    </tr>\n",
       "    <tr>\n",
       "      <th>1612</th>\n",
       "      <td>78</td>\n",
       "      <td>0</td>\n",
       "      <td>2019-02-06</td>\n",
       "      <td>2014-08-11</td>\n",
       "      <td>NaN</td>\n",
       "      <td>nan</td>\n",
       "      <td>male</td>\n",
       "      <td>non_reader</td>\n",
       "    </tr>\n",
       "    <tr>\n",
       "      <th>1905</th>\n",
       "      <td>94</td>\n",
       "      <td>0</td>\n",
       "      <td>2019-02-06</td>\n",
       "      <td>2019-02-03</td>\n",
       "      <td>NaN</td>\n",
       "      <td>nan</td>\n",
       "      <td>female</td>\n",
       "      <td>new_user</td>\n",
       "    </tr>\n",
       "  </tbody>\n",
       "</table>\n",
       "</div>"
      ],
      "text/plain": [
       "      uid  variant_number experiement_dt  ... active_mins  gender   user_type\n",
       "193     8               0     2019-02-06  ...         nan    male    new_user\n",
       "258    12               0     2019-02-06  ...         nan    male  non_reader\n",
       "797    35               0     2019-02-06  ...         nan    male    new_user\n",
       "1612   78               0     2019-02-06  ...         nan    male  non_reader\n",
       "1905   94               0     2019-02-06  ...         nan  female    new_user\n",
       "\n",
       "[5 rows x 8 columns]"
      ]
     },
     "execution_count": 20,
     "metadata": {
      "tags": []
     },
     "output_type": "execute_result"
    },
    {
     "data": {
      "text/plain": [
       "3367"
      ]
     },
     "execution_count": 20,
     "metadata": {
      "tags": []
     },
     "output_type": "execute_result"
    },
    {
     "data": {
      "text/html": [
       "<div>\n",
       "<style scoped>\n",
       "    .dataframe tbody tr th:only-of-type {\n",
       "        vertical-align: middle;\n",
       "    }\n",
       "\n",
       "    .dataframe tbody tr th {\n",
       "        vertical-align: top;\n",
       "    }\n",
       "\n",
       "    .dataframe thead th {\n",
       "        text-align: right;\n",
       "    }\n",
       "</style>\n",
       "<table border=\"1\" class=\"dataframe\">\n",
       "  <thead>\n",
       "    <tr style=\"text-align: right;\">\n",
       "      <th></th>\n",
       "      <th>variant_number</th>\n",
       "      <th>uid</th>\n",
       "    </tr>\n",
       "  </thead>\n",
       "  <tbody>\n",
       "    <tr>\n",
       "      <th>0</th>\n",
       "      <td>0</td>\n",
       "      <td>2575</td>\n",
       "    </tr>\n",
       "    <tr>\n",
       "      <th>1</th>\n",
       "      <td>1</td>\n",
       "      <td>792</td>\n",
       "    </tr>\n",
       "  </tbody>\n",
       "</table>\n",
       "</div>"
      ],
      "text/plain": [
       "   variant_number   uid\n",
       "0               0  2575\n",
       "1               1   792"
      ]
     },
     "execution_count": 20,
     "metadata": {
      "tags": []
     },
     "output_type": "execute_result"
    }
   ],
   "source": [
    "temp = usr_postexp_df2[usr_postexp_df2.active_mins.isna()]\n",
    "temp.shape\n",
    "temp.head()\n",
    "temp.uid.nunique()\n",
    "temp.groupby(['variant_number'],as_index=False).agg({'uid':'nunique'})"
   ]
  },
  {
   "cell_type": "markdown",
   "metadata": {
    "id": "v8XtujfOH17y"
   },
   "source": [
    "### Thus we see that a lot of users (3k+) from control group and also treatment groups have shown no activity during the experiment period. \n",
    "### Currently, I am removing these users since for these users the active_mins will be 0 for all days and since they were not active even for single day, so they didn't see the newly designed UI and hence have no role to play."
   ]
  },
  {
   "cell_type": "code",
   "execution_count": null,
   "metadata": {
    "colab": {
     "base_uri": "https://localhost:8080/",
     "height": 224
    },
    "id": "zyiQNtoeH17z",
    "outputId": "4f70c4a9-b27f-4e15-fd84-c4bb29d207df"
   },
   "outputs": [
    {
     "data": {
      "text/plain": [
       "(1066230, 8)"
      ]
     },
     "execution_count": 21,
     "metadata": {
      "tags": []
     },
     "output_type": "execute_result"
    },
    {
     "data": {
      "text/html": [
       "<div>\n",
       "<style scoped>\n",
       "    .dataframe tbody tr th:only-of-type {\n",
       "        vertical-align: middle;\n",
       "    }\n",
       "\n",
       "    .dataframe tbody tr th {\n",
       "        vertical-align: top;\n",
       "    }\n",
       "\n",
       "    .dataframe thead th {\n",
       "        text-align: right;\n",
       "    }\n",
       "</style>\n",
       "<table border=\"1\" class=\"dataframe\">\n",
       "  <thead>\n",
       "    <tr style=\"text-align: right;\">\n",
       "      <th></th>\n",
       "      <th>uid</th>\n",
       "      <th>variant_number</th>\n",
       "      <th>experiement_dt</th>\n",
       "      <th>signup_date</th>\n",
       "      <th>dt</th>\n",
       "      <th>active_mins</th>\n",
       "      <th>gender</th>\n",
       "      <th>user_type</th>\n",
       "    </tr>\n",
       "  </thead>\n",
       "  <tbody>\n",
       "    <tr>\n",
       "      <th>0</th>\n",
       "      <td>0</td>\n",
       "      <td>0</td>\n",
       "      <td>2019-02-06</td>\n",
       "      <td>2018-09-24</td>\n",
       "      <td>2019-02-22</td>\n",
       "      <td>5.000000</td>\n",
       "      <td>male</td>\n",
       "      <td>non_reader</td>\n",
       "    </tr>\n",
       "    <tr>\n",
       "      <th>1</th>\n",
       "      <td>0</td>\n",
       "      <td>0</td>\n",
       "      <td>2019-02-06</td>\n",
       "      <td>2018-09-24</td>\n",
       "      <td>2019-03-11</td>\n",
       "      <td>5.000000</td>\n",
       "      <td>male</td>\n",
       "      <td>non_reader</td>\n",
       "    </tr>\n",
       "    <tr>\n",
       "      <th>2</th>\n",
       "      <td>0</td>\n",
       "      <td>0</td>\n",
       "      <td>2019-02-06</td>\n",
       "      <td>2018-09-24</td>\n",
       "      <td>2019-03-18</td>\n",
       "      <td>3.000000</td>\n",
       "      <td>male</td>\n",
       "      <td>non_reader</td>\n",
       "    </tr>\n",
       "    <tr>\n",
       "      <th>3</th>\n",
       "      <td>0</td>\n",
       "      <td>0</td>\n",
       "      <td>2019-02-06</td>\n",
       "      <td>2018-09-24</td>\n",
       "      <td>2019-03-22</td>\n",
       "      <td>4.000000</td>\n",
       "      <td>male</td>\n",
       "      <td>non_reader</td>\n",
       "    </tr>\n",
       "    <tr>\n",
       "      <th>4</th>\n",
       "      <td>0</td>\n",
       "      <td>0</td>\n",
       "      <td>2019-02-06</td>\n",
       "      <td>2018-09-24</td>\n",
       "      <td>2019-04-03</td>\n",
       "      <td>9.000000</td>\n",
       "      <td>male</td>\n",
       "      <td>non_reader</td>\n",
       "    </tr>\n",
       "  </tbody>\n",
       "</table>\n",
       "</div>"
      ],
      "text/plain": [
       "   uid  variant_number experiement_dt  ... active_mins gender   user_type\n",
       "0    0               0     2019-02-06  ...    5.000000   male  non_reader\n",
       "1    0               0     2019-02-06  ...    5.000000   male  non_reader\n",
       "2    0               0     2019-02-06  ...    3.000000   male  non_reader\n",
       "3    0               0     2019-02-06  ...    4.000000   male  non_reader\n",
       "4    0               0     2019-02-06  ...    9.000000   male  non_reader\n",
       "\n",
       "[5 rows x 8 columns]"
      ]
     },
     "execution_count": 21,
     "metadata": {
      "tags": []
     },
     "output_type": "execute_result"
    }
   ],
   "source": [
    "usr_postexp_dfnew = usr_postexp_df2[~usr_postexp_df2.active_mins.isna()]\n",
    "usr_postexp_dfnew.shape\n",
    "usr_postexp_dfnew.head()"
   ]
  },
  {
   "cell_type": "markdown",
   "metadata": {
    "id": "7ec4IsDSH173"
   },
   "source": [
    "Let's look at the variant number 0/1 wise the mean active_mins and it's std deviation."
   ]
  },
  {
   "cell_type": "code",
   "execution_count": null,
   "metadata": {
    "colab": {
     "base_uri": "https://localhost:8080/",
     "height": 143
    },
    "id": "0Y-EEgtbH175",
    "outputId": "6eda902d-ec8c-43ad-9163-584885fbad95"
   },
   "outputs": [
    {
     "data": {
      "text/html": [
       "<div>\n",
       "<style scoped>\n",
       "    .dataframe tbody tr th:only-of-type {\n",
       "        vertical-align: middle;\n",
       "    }\n",
       "\n",
       "    .dataframe tbody tr th {\n",
       "        vertical-align: top;\n",
       "    }\n",
       "\n",
       "    .dataframe thead th {\n",
       "        text-align: right;\n",
       "    }\n",
       "</style>\n",
       "<table border=\"1\" class=\"dataframe\">\n",
       "  <thead>\n",
       "    <tr style=\"text-align: right;\">\n",
       "      <th></th>\n",
       "      <th>mean</th>\n",
       "      <th>median</th>\n",
       "      <th>std</th>\n",
       "    </tr>\n",
       "    <tr>\n",
       "      <th>variant_number</th>\n",
       "      <th></th>\n",
       "      <th></th>\n",
       "      <th></th>\n",
       "    </tr>\n",
       "  </thead>\n",
       "  <tbody>\n",
       "    <tr>\n",
       "      <th>0</th>\n",
       "      <td>19.337660</td>\n",
       "      <td>5.000000</td>\n",
       "      <td>44.797631</td>\n",
       "    </tr>\n",
       "    <tr>\n",
       "      <th>1</th>\n",
       "      <td>23.526294</td>\n",
       "      <td>7.000000</td>\n",
       "      <td>54.191356</td>\n",
       "    </tr>\n",
       "  </tbody>\n",
       "</table>\n",
       "</div>"
      ],
      "text/plain": [
       "                    mean   median       std\n",
       "variant_number                             \n",
       "0              19.337660 5.000000 44.797631\n",
       "1              23.526294 7.000000 54.191356"
      ]
     },
     "execution_count": 22,
     "metadata": {
      "tags": []
     },
     "output_type": "execute_result"
    }
   ],
   "source": [
    "usr_postexp_dfnew.groupby(['variant_number'],as_index=False).active_mins.agg({'mean','std','median'})"
   ]
  },
  {
   "cell_type": "markdown",
   "metadata": {
    "id": "yIrXODWVH179"
   },
   "source": [
    "#### Populating the above df for each user * 150 days of experiment. This will give us an apple-to-apply comparison, ie the daily acitve _min for each user for every single day when the experiment was live\n"
   ]
  },
  {
   "cell_type": "code",
   "execution_count": null,
   "metadata": {
    "colab": {
     "base_uri": "https://localhost:8080/"
    },
    "id": "pz_lv7YXH17-",
    "outputId": "9a64f59d-cccc-4f73-8497-ce2c25e59a36"
   },
   "outputs": [
    {
     "name": "stdout",
     "output_type": "stream",
     "text": [
      "Before a& After reshaping the data at daily level: (1066230, 8) (6994950, 8)\n"
     ]
    }
   ],
   "source": [
    "daily_usr_act = usr_postexp_dfnew.pivot_table(index=['variant_number','uid','experiement_dt','signup_date',\n",
    "                                                      'gender','user_type'],columns = 'dt',values='active_mins',fill_value=0).reset_index()\n",
    "daily_usr_act = daily_usr_act.melt(id_vars=['variant_number','uid','experiement_dt','signup_date',\n",
    "                                                      'gender','user_type'], var_name='dt',value_name='active_mins')\n",
    "print(\"Before a& After reshaping the data at daily level:\",usr_postexp_dfnew.shape, daily_usr_act.shape)"
   ]
  },
  {
   "cell_type": "markdown",
   "metadata": {
    "id": "G-Fq-m8PH18D"
   },
   "source": [
    "### Let's now see the impact of new UI on average active_mins for control and treatment group"
   ]
  },
  {
   "cell_type": "code",
   "execution_count": null,
   "metadata": {
    "colab": {
     "base_uri": "https://localhost:8080/",
     "height": 143
    },
    "id": "pomz6dlIH18E",
    "outputId": "34b3488a-5518-4ea9-c955-4478b2dae2f0"
   },
   "outputs": [
    {
     "data": {
      "text/html": [
       "<div>\n",
       "<style scoped>\n",
       "    .dataframe tbody tr th:only-of-type {\n",
       "        vertical-align: middle;\n",
       "    }\n",
       "\n",
       "    .dataframe tbody tr th {\n",
       "        vertical-align: top;\n",
       "    }\n",
       "\n",
       "    .dataframe thead th {\n",
       "        text-align: right;\n",
       "    }\n",
       "</style>\n",
       "<table border=\"1\" class=\"dataframe\">\n",
       "  <thead>\n",
       "    <tr style=\"text-align: right;\">\n",
       "      <th></th>\n",
       "      <th>median</th>\n",
       "      <th>var</th>\n",
       "      <th>mean</th>\n",
       "      <th>std</th>\n",
       "      <th>count</th>\n",
       "    </tr>\n",
       "    <tr>\n",
       "      <th>variant_number</th>\n",
       "      <th></th>\n",
       "      <th></th>\n",
       "      <th></th>\n",
       "      <th></th>\n",
       "      <th></th>\n",
       "    </tr>\n",
       "  </thead>\n",
       "  <tbody>\n",
       "    <tr>\n",
       "      <th>0</th>\n",
       "      <td>0</td>\n",
       "      <td>366.763169</td>\n",
       "      <td>3.054808</td>\n",
       "      <td>19.151062</td>\n",
       "      <td>5613750</td>\n",
       "    </tr>\n",
       "    <tr>\n",
       "      <th>1</th>\n",
       "      <td>0</td>\n",
       "      <td>444.027311</td>\n",
       "      <td>3.056017</td>\n",
       "      <td>21.071956</td>\n",
       "      <td>1381200</td>\n",
       "    </tr>\n",
       "  </tbody>\n",
       "</table>\n",
       "</div>"
      ],
      "text/plain": [
       "                median        var     mean       std    count\n",
       "variant_number                                               \n",
       "0                    0 366.763169 3.054808 19.151062  5613750\n",
       "1                    0 444.027311 3.056017 21.071956  1381200"
      ]
     },
     "execution_count": 24,
     "metadata": {
      "tags": []
     },
     "output_type": "execute_result"
    }
   ],
   "source": [
    "daily_usr_act.groupby(['variant_number'],as_index=False).active_mins.agg({'mean','std','median','var','count'})"
   ]
  },
  {
   "cell_type": "code",
   "execution_count": null,
   "metadata": {
    "id": "UQoqw4gZH18P"
   },
   "outputs": [],
   "source": [
    "mean_0 = daily_usr_act[daily_usr_act['variant_number']==0].active_mins.mean()\n",
    "mean_1 = daily_usr_act[daily_usr_act['variant_number']==1].active_mins.mean()\n",
    "\n",
    "std_0 = daily_usr_act[daily_usr_act['variant_number']==0].active_mins.std()\n",
    "std_1 = daily_usr_act[daily_usr_act['variant_number']==1].active_mins.std()\n",
    "\n",
    "nobs0 = daily_usr_act[daily_usr_act['variant_number']==0].active_mins.count()\n",
    "nobs1 = daily_usr_act[daily_usr_act['variant_number']==1].active_mins.count()"
   ]
  },
  {
   "cell_type": "markdown",
   "metadata": {
    "id": "CrH3PTfEH18T"
   },
   "source": [
    "### Performing t-test to understand if there was any impact of new UI on user's dUIaily engagement\n",
    "\n",
    "<b> <u>Null Hypothesis Ho:</u> New UI had no effect on daily user enagegment i.e. there is no difference in control and variant users' average active mins\n",
    "<u>Alternate Hypothesis:</u> New UI had an effect on daily user engagment, .e. there is a difference in control and variant users' average active mins</b>\n",
    "\n",
    "Here using the Welch t-test because both variane and sample sizes of two groups are different."
   ]
  },
  {
   "cell_type": "code",
   "execution_count": null,
   "metadata": {
    "colab": {
     "base_uri": "https://localhost:8080/"
    },
    "id": "AYnRrT6KH18V",
    "outputId": "a9b88292-1913-40cc-d8a3-6dbddb31edf9"
   },
   "outputs": [
    {
     "data": {
      "text/plain": [
       "Ttest_indResult(statistic=0.06145955015857426, pvalue=0.9509932339796476)"
      ]
     },
     "execution_count": 26,
     "metadata": {
      "tags": []
     },
     "output_type": "execute_result"
    }
   ],
   "source": [
    "ttest_ind_from_stats(mean1=mean_1,std1=std_1,nobs1=nobs1,\n",
    "                     mean2=mean_0,std2=std_0,nobs2=nobs0, equal_var=False)"
   ]
  },
  {
   "cell_type": "markdown",
   "metadata": {
    "id": "IDihHr6VH18Y"
   },
   "source": [
    "<b> The p-value from the above t-test is very high and thus we fail to reject the null-hypothesis. </b>\n",
    "#### Preparing Confidence Interval"
   ]
  },
  {
   "cell_type": "code",
   "execution_count": null,
   "metadata": {
    "id": "DPhvXJv4H18Y"
   },
   "outputs": [],
   "source": [
    "def calc_CI(mean_1,std_1,nobs1,mean_0,std_0,nobs0,CI_interval):\n",
    "    se = np.sqrt((std_1 * std_1) / nobs1 + (std_0 * std_0) / nobs0)\n",
    "    mean_diff = mean_1-mean_0\n",
    "    qt = stats.norm.isf((1-CI_interval)/2)\n",
    "    lower = mean_diff - qt*se\n",
    "    upper = mean_diff + qt*se\n",
    "    return (lower,upper)\n"
   ]
  },
  {
   "cell_type": "code",
   "execution_count": null,
   "metadata": {
    "colab": {
     "base_uri": "https://localhost:8080/"
    },
    "id": "ZnFU8C2eH18d",
    "outputId": "4e6972fc-db5a-447f-b1c4-db2a184aa7ee"
   },
   "outputs": [
    {
     "data": {
      "text/plain": [
       "(-0.03733892403590165, 0.039756441143676366)"
      ]
     },
     "execution_count": 28,
     "metadata": {
      "tags": []
     },
     "output_type": "execute_result"
    }
   ],
   "source": [
    "CI = calc_CI(mean_1,std_1,nobs1,mean_0,std_0,nobs0,0.95)\n",
    "CI"
   ]
  },
  {
   "cell_type": "markdown",
   "metadata": {
    "id": "0hcuAhj3H18h"
   },
   "source": [
    "## Pre and Post Experiment Data Analysis\n",
    "\n",
    "You decide to dive deeper into the data, so you gather a table of active minutes by user from before the experiment began. You should now use table 3 (t3_user_active_min_pre.csv) along with tables 1 and 2 for this question.\n",
    "\n",
    "Using the statistical method of your choice and the pre-experiment data, update your 95% confidence interval of the overall average treatment effect.\n",
    "\n",
    "Please enter your confidence interval below, after rounding your answer to second place after the decimal."
   ]
  },
  {
   "cell_type": "code",
   "execution_count": null,
   "metadata": {
    "colab": {
     "base_uri": "https://localhost:8080/"
    },
    "id": "dmNff5NeH18i",
    "outputId": "aeb8d655-32de-408e-815c-7a6edb7d88e0"
   },
   "outputs": [
    {
     "name": "stdout",
     "output_type": "stream",
     "text": [
      "Pre Experiments date range: 2018-08-10  -  2019-02-06\n",
      "Duration of Experiment: 2019-02-06  -  2019-07-05\n",
      "Experiment Duration(Days): 150\n",
      "Pre Experiment Duration(Days): 180\n"
     ]
    }
   ],
   "source": [
    "print(\"Pre Experiments date range:\", t3_usr_active_min_pre.dt.min(),\" - \",t2_usr_variant.dt.max())\n",
    "print(\"Duration of Experiment:\",t1_usr_active_min.dt.min(),\" - \", t1_usr_active_min.dt.max())\n",
    "\n",
    "delta = dt.strptime(t1_usr_active_min.dt.max(),\"%Y-%m-%d\")-dt.strptime(t1_usr_active_min.dt.min(),\"%Y-%m-%d\")\n",
    "predelta = dt.strptime(t3_usr_active_min_pre.dt.max(),\"%Y-%m-%d\")-dt.strptime(t3_usr_active_min_pre.dt.min(),\"%Y-%m-%d\") \n",
    "print(\"Experiment Duration(Days):\",delta.days+1)\n",
    "print(\"Pre Experiment Duration(Days):\",predelta.days+1)"
   ]
  },
  {
   "cell_type": "markdown",
   "metadata": {
    "id": "fTXyB9A1H18m"
   },
   "source": [
    "#### In the following lines of code, I reiterating steps & function used above to prepare data ready for t-test and CI calculation.\n",
    "#### Steps taken:\n",
    "\n",
    "- Preparing Master Table: pre-experiement 0/1 variant group's average activity mins\n",
    "- Outlier removal\n",
    "- Performing T-test for pre and post experiment data"
   ]
  },
  {
   "cell_type": "code",
   "execution_count": null,
   "metadata": {
    "colab": {
     "base_uri": "https://localhost:8080/",
     "height": 161
    },
    "id": "fkcI-d-IH18m",
    "outputId": "db0ac17d-73f9-4c7a-f986-64881be3b7d4"
   },
   "outputs": [
    {
     "data": {
      "text/plain": [
       "(1190396, 8)"
      ]
     },
     "execution_count": 30,
     "metadata": {
      "tags": []
     },
     "output_type": "execute_result"
    },
    {
     "data": {
      "text/plain": [
       "50000"
      ]
     },
     "execution_count": 30,
     "metadata": {
      "tags": []
     },
     "output_type": "execute_result"
    },
    {
     "data": {
      "text/html": [
       "<div>\n",
       "<style scoped>\n",
       "    .dataframe tbody tr th:only-of-type {\n",
       "        vertical-align: middle;\n",
       "    }\n",
       "\n",
       "    .dataframe tbody tr th {\n",
       "        vertical-align: top;\n",
       "    }\n",
       "\n",
       "    .dataframe thead th {\n",
       "        text-align: right;\n",
       "    }\n",
       "</style>\n",
       "<table border=\"1\" class=\"dataframe\">\n",
       "  <thead>\n",
       "    <tr style=\"text-align: right;\">\n",
       "      <th></th>\n",
       "      <th>uid</th>\n",
       "      <th>variant_number</th>\n",
       "      <th>dt_x</th>\n",
       "      <th>signup_date</th>\n",
       "      <th>dt_y</th>\n",
       "      <th>active_mins</th>\n",
       "      <th>gender</th>\n",
       "      <th>user_type</th>\n",
       "    </tr>\n",
       "  </thead>\n",
       "  <tbody>\n",
       "    <tr>\n",
       "      <th>0</th>\n",
       "      <td>0</td>\n",
       "      <td>0</td>\n",
       "      <td>2019-02-06</td>\n",
       "      <td>2018-09-24</td>\n",
       "      <td>2018-09-24</td>\n",
       "      <td>3.000000</td>\n",
       "      <td>male</td>\n",
       "      <td>non_reader</td>\n",
       "    </tr>\n",
       "    <tr>\n",
       "      <th>1</th>\n",
       "      <td>0</td>\n",
       "      <td>0</td>\n",
       "      <td>2019-02-06</td>\n",
       "      <td>2018-09-24</td>\n",
       "      <td>2018-11-08</td>\n",
       "      <td>4.000000</td>\n",
       "      <td>male</td>\n",
       "      <td>non_reader</td>\n",
       "    </tr>\n",
       "    <tr>\n",
       "      <th>2</th>\n",
       "      <td>0</td>\n",
       "      <td>0</td>\n",
       "      <td>2019-02-06</td>\n",
       "      <td>2018-09-24</td>\n",
       "      <td>2018-11-24</td>\n",
       "      <td>3.000000</td>\n",
       "      <td>male</td>\n",
       "      <td>non_reader</td>\n",
       "    </tr>\n",
       "  </tbody>\n",
       "</table>\n",
       "</div>"
      ],
      "text/plain": [
       "   uid  variant_number        dt_x  ... active_mins gender   user_type\n",
       "0    0               0  2019-02-06  ...    3.000000   male  non_reader\n",
       "1    0               0  2019-02-06  ...    4.000000   male  non_reader\n",
       "2    0               0  2019-02-06  ...    3.000000   male  non_reader\n",
       "\n",
       "[3 rows x 8 columns]"
      ]
     },
     "execution_count": 30,
     "metadata": {
      "tags": []
     },
     "output_type": "execute_result"
    }
   ],
   "source": [
    "usr_preexp_df = pd.merge(t2_usr_variant,t3_usr_active_min_pre,on=\"uid\",how=\"left\")\n",
    "preexp_usr_df = pd.merge(usr_preexp_df,t4_usr_attributes,on=\"uid\",how=\"left\")\n",
    "preexp_usr_df.shape\n",
    "preexp_usr_df.uid.nunique()\n",
    "preexp_usr_df.head(3)"
   ]
  },
  {
   "cell_type": "code",
   "execution_count": null,
   "metadata": {
    "id": "rjdi-qh7H18q"
   },
   "outputs": [],
   "source": [
    "preexp_usr_df.rename(columns={'dt_x':'experiement_dt','dt_y':'dt'}, inplace=True )"
   ]
  },
  {
   "cell_type": "markdown",
   "metadata": {
    "id": "FeD3OQfqH18t"
   },
   "source": [
    "### Outlier Treatment"
   ]
  },
  {
   "cell_type": "code",
   "execution_count": null,
   "metadata": {
    "colab": {
     "base_uri": "https://localhost:8080/",
     "height": 318
    },
    "id": "hbLNePYxH18t",
    "outputId": "9101fe05-8b4e-43b3-b70a-cf7aae6f9280"
   },
   "outputs": [
    {
     "data": {
      "text/html": [
       "<div>\n",
       "<style scoped>\n",
       "    .dataframe tbody tr th:only-of-type {\n",
       "        vertical-align: middle;\n",
       "    }\n",
       "\n",
       "    .dataframe tbody tr th {\n",
       "        vertical-align: top;\n",
       "    }\n",
       "\n",
       "    .dataframe thead th {\n",
       "        text-align: right;\n",
       "    }\n",
       "</style>\n",
       "<table border=\"1\" class=\"dataframe\">\n",
       "  <thead>\n",
       "    <tr style=\"text-align: right;\">\n",
       "      <th></th>\n",
       "      <th>uid</th>\n",
       "      <th>variant_number</th>\n",
       "      <th>active_mins</th>\n",
       "    </tr>\n",
       "  </thead>\n",
       "  <tbody>\n",
       "    <tr>\n",
       "      <th>count</th>\n",
       "      <td>1190396.000000</td>\n",
       "      <td>1190396.000000</td>\n",
       "      <td>1190093.000000</td>\n",
       "    </tr>\n",
       "    <tr>\n",
       "      <th>mean</th>\n",
       "      <td>24206.442924</td>\n",
       "      <td>0.168585</td>\n",
       "      <td>32.203151</td>\n",
       "    </tr>\n",
       "    <tr>\n",
       "      <th>std</th>\n",
       "      <td>14180.354303</td>\n",
       "      <td>0.374385</td>\n",
       "      <td>1181.530546</td>\n",
       "    </tr>\n",
       "    <tr>\n",
       "      <th>min</th>\n",
       "      <td>0.000000</td>\n",
       "      <td>0.000000</td>\n",
       "      <td>1.000000</td>\n",
       "    </tr>\n",
       "    <tr>\n",
       "      <th>25%</th>\n",
       "      <td>11975.000000</td>\n",
       "      <td>0.000000</td>\n",
       "      <td>2.000000</td>\n",
       "    </tr>\n",
       "    <tr>\n",
       "      <th>50%</th>\n",
       "      <td>23933.000000</td>\n",
       "      <td>0.000000</td>\n",
       "      <td>4.000000</td>\n",
       "    </tr>\n",
       "    <tr>\n",
       "      <th>75%</th>\n",
       "      <td>36197.250000</td>\n",
       "      <td>0.000000</td>\n",
       "      <td>14.000000</td>\n",
       "    </tr>\n",
       "    <tr>\n",
       "      <th>max</th>\n",
       "      <td>49999.000000</td>\n",
       "      <td>1.000000</td>\n",
       "      <td>99999.000000</td>\n",
       "    </tr>\n",
       "  </tbody>\n",
       "</table>\n",
       "</div>"
      ],
      "text/plain": [
       "                 uid  variant_number    active_mins\n",
       "count 1190396.000000  1190396.000000 1190093.000000\n",
       "mean    24206.442924        0.168585      32.203151\n",
       "std     14180.354303        0.374385    1181.530546\n",
       "min         0.000000        0.000000       1.000000\n",
       "25%     11975.000000        0.000000       2.000000\n",
       "50%     23933.000000        0.000000       4.000000\n",
       "75%     36197.250000        0.000000      14.000000\n",
       "max     49999.000000        1.000000   99999.000000"
      ]
     },
     "execution_count": 32,
     "metadata": {
      "tags": []
     },
     "output_type": "execute_result"
    },
    {
     "data": {
      "text/plain": [
       "(166, 8)"
      ]
     },
     "execution_count": 32,
     "metadata": {
      "tags": []
     },
     "output_type": "execute_result"
    }
   ],
   "source": [
    "preexp_usr_df.describe()\n",
    "#plt.hist(usr_postexp_df.active_mins)\n",
    "preexp_usr_df[preexp_usr_df.active_mins>=1500].shape"
   ]
  },
  {
   "cell_type": "code",
   "execution_count": null,
   "metadata": {
    "colab": {
     "base_uri": "https://localhost:8080/"
    },
    "id": "fkHCryFUH18y",
    "outputId": "92367e9e-618e-4e3b-871f-91b24e2a4c7a"
   },
   "outputs": [
    {
     "data": {
      "text/plain": [
       "(1190396, 8)"
      ]
     },
     "execution_count": 33,
     "metadata": {
      "tags": []
     },
     "output_type": "execute_result"
    },
    {
     "data": {
      "text/plain": [
       "166"
      ]
     },
     "execution_count": 33,
     "metadata": {
      "tags": []
     },
     "output_type": "execute_result"
    }
   ],
   "source": [
    "preexp_usr_df.shape\n",
    "temp = preexp_usr_df['active_mins'] >=1500\n",
    "preexp_usr_df2 = preexp_usr_df[~temp]\n",
    "preexp_usr_df.shape[0]-preexp_usr_df2.shape[0]"
   ]
  },
  {
   "cell_type": "markdown",
   "metadata": {
    "id": "wYWzn1CfH182"
   },
   "source": [
    "Thus we have removed the outlier values: 166 entries with active_mins >=1500 mins"
   ]
  },
  {
   "cell_type": "code",
   "execution_count": null,
   "metadata": {
    "colab": {
     "base_uri": "https://localhost:8080/",
     "height": 363
    },
    "id": "lYNPvaX5H183",
    "outputId": "ecdfbcb1-286c-4d1c-8c33-6eb96e527f4c"
   },
   "outputs": [
    {
     "data": {
      "text/html": [
       "<div>\n",
       "<style scoped>\n",
       "    .dataframe tbody tr th:only-of-type {\n",
       "        vertical-align: middle;\n",
       "    }\n",
       "\n",
       "    .dataframe tbody tr th {\n",
       "        vertical-align: top;\n",
       "    }\n",
       "\n",
       "    .dataframe thead th {\n",
       "        text-align: right;\n",
       "    }\n",
       "</style>\n",
       "<table border=\"1\" class=\"dataframe\">\n",
       "  <thead>\n",
       "    <tr style=\"text-align: right;\">\n",
       "      <th></th>\n",
       "      <th>uid</th>\n",
       "      <th>variant_number</th>\n",
       "      <th>experiement_dt</th>\n",
       "      <th>signup_date</th>\n",
       "      <th>dt</th>\n",
       "      <th>active_mins</th>\n",
       "      <th>gender</th>\n",
       "      <th>user_type</th>\n",
       "    </tr>\n",
       "  </thead>\n",
       "  <tbody>\n",
       "    <tr>\n",
       "      <th>0</th>\n",
       "      <td>0</td>\n",
       "      <td>0</td>\n",
       "      <td>2019-02-06</td>\n",
       "      <td>2018-09-24</td>\n",
       "      <td>2018-09-24</td>\n",
       "      <td>3.000000</td>\n",
       "      <td>male</td>\n",
       "      <td>non_reader</td>\n",
       "    </tr>\n",
       "    <tr>\n",
       "      <th>1</th>\n",
       "      <td>0</td>\n",
       "      <td>0</td>\n",
       "      <td>2019-02-06</td>\n",
       "      <td>2018-09-24</td>\n",
       "      <td>2018-11-08</td>\n",
       "      <td>4.000000</td>\n",
       "      <td>male</td>\n",
       "      <td>non_reader</td>\n",
       "    </tr>\n",
       "    <tr>\n",
       "      <th>2</th>\n",
       "      <td>0</td>\n",
       "      <td>0</td>\n",
       "      <td>2019-02-06</td>\n",
       "      <td>2018-09-24</td>\n",
       "      <td>2018-11-24</td>\n",
       "      <td>3.000000</td>\n",
       "      <td>male</td>\n",
       "      <td>non_reader</td>\n",
       "    </tr>\n",
       "    <tr>\n",
       "      <th>3</th>\n",
       "      <td>0</td>\n",
       "      <td>0</td>\n",
       "      <td>2019-02-06</td>\n",
       "      <td>2018-09-24</td>\n",
       "      <td>2018-11-28</td>\n",
       "      <td>6.000000</td>\n",
       "      <td>male</td>\n",
       "      <td>non_reader</td>\n",
       "    </tr>\n",
       "    <tr>\n",
       "      <th>4</th>\n",
       "      <td>0</td>\n",
       "      <td>0</td>\n",
       "      <td>2019-02-06</td>\n",
       "      <td>2018-09-24</td>\n",
       "      <td>2018-12-02</td>\n",
       "      <td>6.000000</td>\n",
       "      <td>male</td>\n",
       "      <td>non_reader</td>\n",
       "    </tr>\n",
       "  </tbody>\n",
       "</table>\n",
       "</div>"
      ],
      "text/plain": [
       "   uid  variant_number experiement_dt  ... active_mins gender   user_type\n",
       "0    0               0     2019-02-06  ...    3.000000   male  non_reader\n",
       "1    0               0     2019-02-06  ...    4.000000   male  non_reader\n",
       "2    0               0     2019-02-06  ...    3.000000   male  non_reader\n",
       "3    0               0     2019-02-06  ...    6.000000   male  non_reader\n",
       "4    0               0     2019-02-06  ...    6.000000   male  non_reader\n",
       "\n",
       "[5 rows x 8 columns]"
      ]
     },
     "execution_count": 34,
     "metadata": {
      "tags": []
     },
     "output_type": "execute_result"
    },
    {
     "data": {
      "text/plain": [
       "uid                 0\n",
       "variant_number      0\n",
       "experiement_dt      0\n",
       "signup_date         0\n",
       "dt                303\n",
       "active_mins       303\n",
       "gender              0\n",
       "user_type           0\n",
       "dtype: int64"
      ]
     },
     "execution_count": 34,
     "metadata": {
      "tags": []
     },
     "output_type": "execute_result"
    }
   ],
   "source": [
    "preexp_usr_df2.head()\n",
    "preexp_usr_df2.isna().sum()"
   ]
  },
  {
   "cell_type": "markdown",
   "metadata": {
    "id": "zM33s1hbH186"
   },
   "source": [
    "### Here we see that around 303 users have no activity during the pre-experiment period. It would be interesting to see if they had any activity during the experiment days and if so, did they have signup enough days before the launch of experiment"
   ]
  },
  {
   "cell_type": "code",
   "execution_count": null,
   "metadata": {
    "colab": {
     "base_uri": "https://localhost:8080/",
     "height": 244
    },
    "id": "vZOC08vPH187",
    "outputId": "de870c46-3bc3-4edc-b99f-ae0ec6fa220c"
   },
   "outputs": [
    {
     "data": {
      "text/plain": [
       "(642, 15)"
      ]
     },
     "execution_count": 35,
     "metadata": {
      "tags": []
     },
     "output_type": "execute_result"
    },
    {
     "data": {
      "text/plain": [
       "155"
      ]
     },
     "execution_count": 35,
     "metadata": {
      "tags": []
     },
     "output_type": "execute_result"
    },
    {
     "data": {
      "text/html": [
       "<div>\n",
       "<style scoped>\n",
       "    .dataframe tbody tr th:only-of-type {\n",
       "        vertical-align: middle;\n",
       "    }\n",
       "\n",
       "    .dataframe tbody tr th {\n",
       "        vertical-align: top;\n",
       "    }\n",
       "\n",
       "    .dataframe thead th {\n",
       "        text-align: right;\n",
       "    }\n",
       "</style>\n",
       "<table border=\"1\" class=\"dataframe\">\n",
       "  <thead>\n",
       "    <tr style=\"text-align: right;\">\n",
       "      <th></th>\n",
       "      <th>uid</th>\n",
       "      <th>variant_number_x</th>\n",
       "      <th>experiement_dt_x</th>\n",
       "      <th>signup_date_x</th>\n",
       "      <th>dt_x</th>\n",
       "      <th>active_mins_x</th>\n",
       "      <th>gender_x</th>\n",
       "      <th>user_type_x</th>\n",
       "      <th>variant_number_y</th>\n",
       "      <th>experiement_dt_y</th>\n",
       "      <th>signup_date_y</th>\n",
       "      <th>dt_y</th>\n",
       "      <th>active_mins_y</th>\n",
       "      <th>gender_y</th>\n",
       "      <th>user_type_y</th>\n",
       "    </tr>\n",
       "  </thead>\n",
       "  <tbody>\n",
       "    <tr>\n",
       "      <th>0</th>\n",
       "      <td>148</td>\n",
       "      <td>0</td>\n",
       "      <td>2019-02-06</td>\n",
       "      <td>2016-09-16</td>\n",
       "      <td>2019-02-06</td>\n",
       "      <td>7.000000</td>\n",
       "      <td>female</td>\n",
       "      <td>non_reader</td>\n",
       "      <td>0</td>\n",
       "      <td>2019-02-06</td>\n",
       "      <td>2016-09-16</td>\n",
       "      <td>NaN</td>\n",
       "      <td>nan</td>\n",
       "      <td>female</td>\n",
       "      <td>non_reader</td>\n",
       "    </tr>\n",
       "    <tr>\n",
       "      <th>1</th>\n",
       "      <td>148</td>\n",
       "      <td>0</td>\n",
       "      <td>2019-02-06</td>\n",
       "      <td>2016-09-16</td>\n",
       "      <td>2019-03-09</td>\n",
       "      <td>1.000000</td>\n",
       "      <td>female</td>\n",
       "      <td>non_reader</td>\n",
       "      <td>0</td>\n",
       "      <td>2019-02-06</td>\n",
       "      <td>2016-09-16</td>\n",
       "      <td>NaN</td>\n",
       "      <td>nan</td>\n",
       "      <td>female</td>\n",
       "      <td>non_reader</td>\n",
       "    </tr>\n",
       "    <tr>\n",
       "      <th>2</th>\n",
       "      <td>148</td>\n",
       "      <td>0</td>\n",
       "      <td>2019-02-06</td>\n",
       "      <td>2016-09-16</td>\n",
       "      <td>2019-03-24</td>\n",
       "      <td>2.000000</td>\n",
       "      <td>female</td>\n",
       "      <td>non_reader</td>\n",
       "      <td>0</td>\n",
       "      <td>2019-02-06</td>\n",
       "      <td>2016-09-16</td>\n",
       "      <td>NaN</td>\n",
       "      <td>nan</td>\n",
       "      <td>female</td>\n",
       "      <td>non_reader</td>\n",
       "    </tr>\n",
       "    <tr>\n",
       "      <th>3</th>\n",
       "      <td>148</td>\n",
       "      <td>0</td>\n",
       "      <td>2019-02-06</td>\n",
       "      <td>2016-09-16</td>\n",
       "      <td>2019-05-19</td>\n",
       "      <td>2.000000</td>\n",
       "      <td>female</td>\n",
       "      <td>non_reader</td>\n",
       "      <td>0</td>\n",
       "      <td>2019-02-06</td>\n",
       "      <td>2016-09-16</td>\n",
       "      <td>NaN</td>\n",
       "      <td>nan</td>\n",
       "      <td>female</td>\n",
       "      <td>non_reader</td>\n",
       "    </tr>\n",
       "    <tr>\n",
       "      <th>4</th>\n",
       "      <td>148</td>\n",
       "      <td>0</td>\n",
       "      <td>2019-02-06</td>\n",
       "      <td>2016-09-16</td>\n",
       "      <td>2019-05-24</td>\n",
       "      <td>2.000000</td>\n",
       "      <td>female</td>\n",
       "      <td>non_reader</td>\n",
       "      <td>0</td>\n",
       "      <td>2019-02-06</td>\n",
       "      <td>2016-09-16</td>\n",
       "      <td>NaN</td>\n",
       "      <td>nan</td>\n",
       "      <td>female</td>\n",
       "      <td>non_reader</td>\n",
       "    </tr>\n",
       "  </tbody>\n",
       "</table>\n",
       "</div>"
      ],
      "text/plain": [
       "   uid  variant_number_x experiement_dt_x  ... active_mins_y gender_y  user_type_y\n",
       "0  148                 0       2019-02-06  ...           nan   female   non_reader\n",
       "1  148                 0       2019-02-06  ...           nan   female   non_reader\n",
       "2  148                 0       2019-02-06  ...           nan   female   non_reader\n",
       "3  148                 0       2019-02-06  ...           nan   female   non_reader\n",
       "4  148                 0       2019-02-06  ...           nan   female   non_reader\n",
       "\n",
       "[5 rows x 15 columns]"
      ]
     },
     "execution_count": 35,
     "metadata": {
      "tags": []
     },
     "output_type": "execute_result"
    }
   ],
   "source": [
    "temp = preexp_usr_df2[preexp_usr_df2.dt.isna()]\n",
    "check_ifactivity = pd.merge(usr_postexp_dfnew,temp, on = \"uid\",how=\"inner\")\n",
    "check_ifactivity.shape\n",
    "check_ifactivity.uid.nunique()\n",
    "check_ifactivity.head()"
   ]
  },
  {
   "cell_type": "markdown",
   "metadata": {
    "id": "fY00aOo6H189"
   },
   "source": [
    "### Out of the 303 non-active users duing pre-experiment phase, 155 had activity during the experiment. Let's now check if they had signed up enough days before the experiment or during the pre-experiment phase."
   ]
  },
  {
   "cell_type": "code",
   "execution_count": null,
   "metadata": {
    "colab": {
     "base_uri": "https://localhost:8080/",
     "height": 36
    },
    "id": "iRwD_39aH18-",
    "outputId": "077ab612-56b7-47cd-98f8-c6a21fe90ea8"
   },
   "outputs": [
    {
     "data": {
      "application/vnd.google.colaboratory.intrinsic+json": {
       "type": "string"
      },
      "text/plain": [
       "'2013-05-16'"
      ]
     },
     "execution_count": 36,
     "metadata": {
      "tags": []
     },
     "output_type": "execute_result"
    },
    {
     "data": {
      "application/vnd.google.colaboratory.intrinsic+json": {
       "type": "string"
      },
      "text/plain": [
       "'2019-02-04'"
      ]
     },
     "execution_count": 36,
     "metadata": {
      "tags": []
     },
     "output_type": "execute_result"
    },
    {
     "name": "stdout",
     "output_type": "stream",
     "text": [
      "Duration of Experiment: 2019-02-06 - 2019-07-05\n"
     ]
    }
   ],
   "source": [
    "check_ifactivity.signup_date_x.min()\n",
    "check_ifactivity.signup_date_x.max()\n",
    "print(\"Duration of Experiment: 2019-02-06 - 2019-07-05\")"
   ]
  },
  {
   "cell_type": "markdown",
   "metadata": {
    "id": "bSrsHvjrH19A"
   },
   "source": [
    "### Thus we see that pre-experiment phase contains user have signed up 2 days before the experiment began. Therefore for a fair comparison, we should only keep those users who had signedup 150 days before the experiment began. This will give us a fair monitoring period: 150 days before the experiment and 150 days after the experiment.\n",
    "\n",
    "### Experiment Begin Date: 2019-02-06\n",
    "### 150 days before Experiment Start Date: 2018-09-09\n",
    "\n",
    "<b> Thus we will now eliminate all the users who have signup after the above date. Only for the filtered set of users, we will now perform pre-post expeirment</b>\n",
    "\n",
    "<b> Since the experiment is for 150 days starting from 2019-02-06 whereas we have pre-experiment data for 180 days, for equal comparison we will only consider the last 150 days activity data for pre-experiment phase</b>"
   ]
  },
  {
   "cell_type": "code",
   "execution_count": null,
   "metadata": {
    "colab": {
     "base_uri": "https://localhost:8080/"
    },
    "id": "3CXTjH78H19B",
    "outputId": "c6c378ab-fffb-43ab-9298-9e34d1f772e1"
   },
   "outputs": [
    {
     "name": "stdout",
     "output_type": "stream",
     "text": [
      "Removing users signed up after 2018-09-09 from preexp df:\n"
     ]
    },
    {
     "data": {
      "text/plain": [
       "50000"
      ]
     },
     "execution_count": 37,
     "metadata": {
      "tags": []
     },
     "output_type": "execute_result"
    },
    {
     "name": "stdout",
     "output_type": "stream",
     "text": [
      "100947\n"
     ]
    },
    {
     "data": {
      "text/plain": [
       "36337"
      ]
     },
     "execution_count": 37,
     "metadata": {
      "tags": []
     },
     "output_type": "execute_result"
    },
    {
     "name": "stdout",
     "output_type": "stream",
     "text": [
      "Removing users signed up after 2018-09-09 from postexp df:\n"
     ]
    },
    {
     "data": {
      "text/plain": [
       "46633"
      ]
     },
     "execution_count": 37,
     "metadata": {
      "tags": []
     },
     "output_type": "execute_result"
    },
    {
     "name": "stdout",
     "output_type": "stream",
     "text": [
      "152041\n"
     ]
    },
    {
     "data": {
      "text/plain": [
       "35296"
      ]
     },
     "execution_count": 37,
     "metadata": {
      "tags": []
     },
     "output_type": "execute_result"
    },
    {
     "name": "stdout",
     "output_type": "stream",
     "text": [
      "Removing user activity older than 150 days before the start of experiment\n"
     ]
    }
   ],
   "source": [
    "print(\"Removing users signed up after 2018-09-09 from preexp df:\")\n",
    "bef = preexp_usr_df2.shape[0]\n",
    "preexp_usr_df2.uid.nunique()\n",
    "preexp_usr_df2 = preexp_usr_df2[preexp_usr_df2.signup_date<='2018-09-09']\n",
    "aft = preexp_usr_df2.shape[0]\n",
    "print(bef-aft)\n",
    "preexp_usr_df2.uid.nunique()\n",
    "\n",
    "\n",
    "print(\"Removing users signed up after 2018-09-09 from postexp df:\")\n",
    "bef = usr_postexp_dfnew.shape[0]\n",
    "usr_postexp_dfnew.uid.nunique()\n",
    "usr_postexp_final = usr_postexp_dfnew[usr_postexp_dfnew.signup_date<='2018-09-09']\n",
    "aft = usr_postexp_final.shape[0]\n",
    "print(bef-aft)\n",
    "usr_postexp_final.uid.nunique()\n",
    "\n",
    "print(\"Removing user activity older than 150 days before the start of experiment\")\n",
    "preexp_usr_final = preexp_usr_df2[preexp_usr_df2.dt>='2018-09-09']"
   ]
  },
  {
   "cell_type": "markdown",
   "metadata": {
    "id": "XhSxeIp3H19D"
   },
   "source": [
    "### Thus, we see that we have eliminated around 13k+ users from pre-experiment dataframe who had signuped during our monitoring period. We have also done the same for our post experiment (or during experiment) dataframe. From the postexp df, we have removed around 11k around users.\n",
    "### This should now help us in comparing the pre & post experiment activity for our users better\n",
    "\n",
    "### Now, I am trying to have only those users in my t-test ready data who were present during both the pre-experiment and during experiment phase. \n",
    "\n",
    "I had to debate a lot with myself about whether to include a)those user who were present in both pre & post experiment period or b)all those users who were present in either duration. After much thinking, I believe in first stage of analysis, I should focus on users present in both phases of experiment. Maybe in 2nd level of analysis, I can study those users who were present in pre-experiment period but not during experiment period and vice-versa.\n",
    "\n",
    "I take this approach because since I have already filtered out users who had signed up 150 days before experiment, therefore there absolute absence in either the pre or during experiment phase is likely to be due to a cause unrelated to new UI design launched"
   ]
  },
  {
   "cell_type": "code",
   "execution_count": null,
   "metadata": {
    "colab": {
     "base_uri": "https://localhost:8080/"
    },
    "id": "Yw4Fj1TiH19D",
    "outputId": "4bad1dde-3d0f-4ce1-9338-c51350251ac4"
   },
   "outputs": [
    {
     "data": {
      "text/plain": [
       "(923767, 8)"
      ]
     },
     "execution_count": 38,
     "metadata": {
      "tags": []
     },
     "output_type": "execute_result"
    },
    {
     "data": {
      "text/plain": [
       "(923767, 8)"
      ]
     },
     "execution_count": 38,
     "metadata": {
      "tags": []
     },
     "output_type": "execute_result"
    }
   ],
   "source": [
    "## Removing those users who had no activity registered during the pre-experiment phase\n",
    "temp = preexp_usr_final[preexp_usr_final.dt.isna()]\n",
    "temp = temp.drop_duplicates(subset=['uid'],keep='first')\n",
    "preexp_usr_final.shape\n",
    "preexp_usr_final = preexp_usr_final[~preexp_usr_final.uid.isin(temp.uid)]\n",
    "preexp_usr_final.shape"
   ]
  },
  {
   "cell_type": "code",
   "execution_count": null,
   "metadata": {
    "colab": {
     "base_uri": "https://localhost:8080/"
    },
    "id": "GlfMdQNlH19H",
    "outputId": "a28f9690-f94a-4987-8293-cc6a2928f2e8"
   },
   "outputs": [
    {
     "data": {
      "text/plain": [
       "(35263, 15)"
      ]
     },
     "execution_count": 39,
     "metadata": {
      "tags": []
     },
     "output_type": "execute_result"
    },
    {
     "name": "stdout",
     "output_type": "stream",
     "text": [
      "Thus we see that we have 36k users for our study.\n"
     ]
    }
   ],
   "source": [
    "## Preparing user_ids\n",
    "uids = preexp_usr_final.drop_duplicates(subset=['uid'],keep='first')\n",
    "uids2 = usr_postexp_final.drop_duplicates(subset=['uid'],keep='first')\n",
    "uids = pd.merge(uids,uids2, on='uid',how='inner')\n",
    "uids.shape\n",
    "print(\"Thus we see that we have 36k users for our study.\")"
   ]
  },
  {
   "cell_type": "markdown",
   "metadata": {
    "id": "W0kihlSRH19J"
   },
   "source": [
    "### Filtering out preexp and postexperiment data for above users only"
   ]
  },
  {
   "cell_type": "code",
   "execution_count": null,
   "metadata": {
    "colab": {
     "base_uri": "https://localhost:8080/",
     "height": 225
    },
    "id": "nolwZJTzH19K",
    "outputId": "4bc82fbd-cb40-48e2-ec84-0b7387266270"
   },
   "outputs": [
    {
     "name": "stdout",
     "output_type": "stream",
     "text": [
      "(916683, 8) (914047, 8)\n"
     ]
    },
    {
     "data": {
      "text/html": [
       "<div>\n",
       "<style scoped>\n",
       "    .dataframe tbody tr th:only-of-type {\n",
       "        vertical-align: middle;\n",
       "    }\n",
       "\n",
       "    .dataframe tbody tr th {\n",
       "        vertical-align: top;\n",
       "    }\n",
       "\n",
       "    .dataframe thead th {\n",
       "        text-align: right;\n",
       "    }\n",
       "</style>\n",
       "<table border=\"1\" class=\"dataframe\">\n",
       "  <thead>\n",
       "    <tr style=\"text-align: right;\">\n",
       "      <th></th>\n",
       "      <th>uid</th>\n",
       "      <th>variant_number</th>\n",
       "      <th>experiement_dt</th>\n",
       "      <th>signup_date</th>\n",
       "      <th>dt</th>\n",
       "      <th>active_mins</th>\n",
       "      <th>gender</th>\n",
       "      <th>user_type</th>\n",
       "    </tr>\n",
       "  </thead>\n",
       "  <tbody>\n",
       "    <tr>\n",
       "      <th>13</th>\n",
       "      <td>1</td>\n",
       "      <td>0</td>\n",
       "      <td>2019-02-06</td>\n",
       "      <td>2016-11-07</td>\n",
       "      <td>2019-02-07</td>\n",
       "      <td>79.000000</td>\n",
       "      <td>male</td>\n",
       "      <td>reader</td>\n",
       "    </tr>\n",
       "    <tr>\n",
       "      <th>14</th>\n",
       "      <td>1</td>\n",
       "      <td>0</td>\n",
       "      <td>2019-02-06</td>\n",
       "      <td>2016-11-07</td>\n",
       "      <td>2019-02-09</td>\n",
       "      <td>211.000000</td>\n",
       "      <td>male</td>\n",
       "      <td>reader</td>\n",
       "    </tr>\n",
       "  </tbody>\n",
       "</table>\n",
       "</div>"
      ],
      "text/plain": [
       "    uid  variant_number experiement_dt  ... active_mins gender  user_type\n",
       "13    1               0     2019-02-06  ...   79.000000   male     reader\n",
       "14    1               0     2019-02-06  ...  211.000000   male     reader\n",
       "\n",
       "[2 rows x 8 columns]"
      ]
     },
     "execution_count": 40,
     "metadata": {
      "tags": []
     },
     "output_type": "execute_result"
    },
    {
     "data": {
      "text/html": [
       "<div>\n",
       "<style scoped>\n",
       "    .dataframe tbody tr th:only-of-type {\n",
       "        vertical-align: middle;\n",
       "    }\n",
       "\n",
       "    .dataframe tbody tr th {\n",
       "        vertical-align: top;\n",
       "    }\n",
       "\n",
       "    .dataframe thead th {\n",
       "        text-align: right;\n",
       "    }\n",
       "</style>\n",
       "<table border=\"1\" class=\"dataframe\">\n",
       "  <thead>\n",
       "    <tr style=\"text-align: right;\">\n",
       "      <th></th>\n",
       "      <th>uid</th>\n",
       "      <th>variant_number</th>\n",
       "      <th>experiement_dt</th>\n",
       "      <th>signup_date</th>\n",
       "      <th>dt</th>\n",
       "      <th>active_mins</th>\n",
       "      <th>gender</th>\n",
       "      <th>user_type</th>\n",
       "    </tr>\n",
       "  </thead>\n",
       "  <tbody>\n",
       "    <tr>\n",
       "      <th>44</th>\n",
       "      <td>1</td>\n",
       "      <td>0</td>\n",
       "      <td>2019-02-06</td>\n",
       "      <td>2016-11-07</td>\n",
       "      <td>2018-09-09</td>\n",
       "      <td>371.000000</td>\n",
       "      <td>male</td>\n",
       "      <td>reader</td>\n",
       "    </tr>\n",
       "    <tr>\n",
       "      <th>45</th>\n",
       "      <td>1</td>\n",
       "      <td>0</td>\n",
       "      <td>2019-02-06</td>\n",
       "      <td>2016-11-07</td>\n",
       "      <td>2018-09-10</td>\n",
       "      <td>70.000000</td>\n",
       "      <td>male</td>\n",
       "      <td>reader</td>\n",
       "    </tr>\n",
       "  </tbody>\n",
       "</table>\n",
       "</div>"
      ],
      "text/plain": [
       "    uid  variant_number experiement_dt  ... active_mins gender  user_type\n",
       "44    1               0     2019-02-06  ...  371.000000   male     reader\n",
       "45    1               0     2019-02-06  ...   70.000000   male     reader\n",
       "\n",
       "[2 rows x 8 columns]"
      ]
     },
     "execution_count": 40,
     "metadata": {
      "tags": []
     },
     "output_type": "execute_result"
    }
   ],
   "source": [
    "lmtd_usr_postexp_df = usr_postexp_final[usr_postexp_final.uid.isin(uids.uid)]\n",
    "lmtd_preexp_usr_df = preexp_usr_final[preexp_usr_final.uid.isin(uids.uid)]\n",
    "print(lmtd_preexp_usr_df.shape,lmtd_usr_postexp_df.shape)\n",
    "lmtd_usr_postexp_df.head(2)\n",
    "lmtd_preexp_usr_df.head(2)"
   ]
  },
  {
   "cell_type": "markdown",
   "metadata": {
    "id": "WvVghog1H19N"
   },
   "source": [
    "#### Populating the above two df: preexp_usr_df2 & usr_postexp_dfnew2  for each user * 150 days of experiment. This will give us an apple-to-apply comparison, ie the daily acitve _min for each user for every single day when the experiment was live"
   ]
  },
  {
   "cell_type": "code",
   "execution_count": null,
   "metadata": {
    "colab": {
     "base_uri": "https://localhost:8080/"
    },
    "id": "W0206TelH19O",
    "outputId": "e299235c-4ca2-41b1-c13e-91a60bb90888"
   },
   "outputs": [
    {
     "name": "stdout",
     "output_type": "stream",
     "text": [
      "Post Exp Data: Before a& After reshaping the data at daily level: (914047, 8) (5289450, 8)\n"
     ]
    }
   ],
   "source": [
    "daily_usr_act_prepost = lmtd_usr_postexp_df.pivot_table(index=['variant_number','uid','experiement_dt','signup_date',\n",
    "                                                      'gender','user_type'],columns = 'dt',values='active_mins',fill_value=0).reset_index()\n",
    "daily_usr_act_prepost = daily_usr_act_prepost.melt(id_vars=['variant_number','uid','experiement_dt','signup_date',\n",
    "                                                      'gender','user_type'], var_name='dt',value_name='active_mins')\n",
    "print(\"Post Exp Data: Before a& After reshaping the data at daily level:\",lmtd_usr_postexp_df.shape, daily_usr_act_prepost.shape)"
   ]
  },
  {
   "cell_type": "code",
   "execution_count": null,
   "metadata": {
    "colab": {
     "base_uri": "https://localhost:8080/"
    },
    "id": "2QNSmaUvH19P",
    "outputId": "eef6005c-63a2-49c8-958b-261025eb64e8"
   },
   "outputs": [
    {
     "name": "stdout",
     "output_type": "stream",
     "text": [
      "Pre Exp Data:Before a& After reshaping the data at daily level: (916683, 8) (5289450, 8)\n"
     ]
    }
   ],
   "source": [
    "daily_usr_act_pre = lmtd_preexp_usr_df.pivot_table(index=['variant_number','uid','experiement_dt','signup_date',\n",
    "                                                      'gender','user_type'],columns = 'dt',values='active_mins',fill_value=0).reset_index()\n",
    "daily_usr_act_pre = daily_usr_act_pre.melt(id_vars=['variant_number','uid','experiement_dt','signup_date',\n",
    "                                                      'gender','user_type'], var_name='dt',value_name='active_mins')\n",
    "print(\"Pre Exp Data:Before a& After reshaping the data at daily level:\",lmtd_preexp_usr_df.shape, daily_usr_act_pre.shape)"
   ]
  },
  {
   "cell_type": "code",
   "execution_count": null,
   "metadata": {
    "colab": {
     "base_uri": "https://localhost:8080/",
     "height": 449
    },
    "id": "oyusryYtH19S",
    "outputId": "ac9fb1ca-b8ee-4cd4-a0ee-d0f1a76f5124"
   },
   "outputs": [
    {
     "name": "stdout",
     "output_type": "stream",
     "text": [
      "Before pre & post experiment analysis:\n"
     ]
    },
    {
     "data": {
      "text/html": [
       "<div>\n",
       "<style scoped>\n",
       "    .dataframe tbody tr th:only-of-type {\n",
       "        vertical-align: middle;\n",
       "    }\n",
       "\n",
       "    .dataframe tbody tr th {\n",
       "        vertical-align: top;\n",
       "    }\n",
       "\n",
       "    .dataframe thead th {\n",
       "        text-align: right;\n",
       "    }\n",
       "</style>\n",
       "<table border=\"1\" class=\"dataframe\">\n",
       "  <thead>\n",
       "    <tr style=\"text-align: right;\">\n",
       "      <th></th>\n",
       "      <th>median</th>\n",
       "      <th>var</th>\n",
       "      <th>mean</th>\n",
       "      <th>std</th>\n",
       "      <th>count</th>\n",
       "    </tr>\n",
       "    <tr>\n",
       "      <th>variant_number</th>\n",
       "      <th></th>\n",
       "      <th></th>\n",
       "      <th></th>\n",
       "      <th></th>\n",
       "      <th></th>\n",
       "    </tr>\n",
       "  </thead>\n",
       "  <tbody>\n",
       "    <tr>\n",
       "      <th>0</th>\n",
       "      <td>0</td>\n",
       "      <td>366.763169</td>\n",
       "      <td>3.054808</td>\n",
       "      <td>19.151062</td>\n",
       "      <td>5613750</td>\n",
       "    </tr>\n",
       "    <tr>\n",
       "      <th>1</th>\n",
       "      <td>0</td>\n",
       "      <td>444.027311</td>\n",
       "      <td>3.056017</td>\n",
       "      <td>21.071956</td>\n",
       "      <td>1381200</td>\n",
       "    </tr>\n",
       "  </tbody>\n",
       "</table>\n",
       "</div>"
      ],
      "text/plain": [
       "                median        var     mean       std    count\n",
       "variant_number                                               \n",
       "0                    0 366.763169 3.054808 19.151062  5613750\n",
       "1                    0 444.027311 3.056017 21.071956  1381200"
      ]
     },
     "execution_count": 43,
     "metadata": {
      "tags": []
     },
     "output_type": "execute_result"
    },
    {
     "name": "stdout",
     "output_type": "stream",
     "text": [
      "After keeping users present in both phase + signup_dt<=2018-09-09 + dt>='2018-09-09'\n"
     ]
    },
    {
     "data": {
      "text/html": [
       "<div>\n",
       "<style scoped>\n",
       "    .dataframe tbody tr th:only-of-type {\n",
       "        vertical-align: middle;\n",
       "    }\n",
       "\n",
       "    .dataframe tbody tr th {\n",
       "        vertical-align: top;\n",
       "    }\n",
       "\n",
       "    .dataframe thead th {\n",
       "        text-align: right;\n",
       "    }\n",
       "</style>\n",
       "<table border=\"1\" class=\"dataframe\">\n",
       "  <thead>\n",
       "    <tr style=\"text-align: right;\">\n",
       "      <th></th>\n",
       "      <th>median</th>\n",
       "      <th>var</th>\n",
       "      <th>mean</th>\n",
       "      <th>std</th>\n",
       "      <th>count</th>\n",
       "    </tr>\n",
       "    <tr>\n",
       "      <th>variant_number</th>\n",
       "      <th></th>\n",
       "      <th></th>\n",
       "      <th></th>\n",
       "      <th></th>\n",
       "      <th></th>\n",
       "    </tr>\n",
       "  </thead>\n",
       "  <tbody>\n",
       "    <tr>\n",
       "      <th>0</th>\n",
       "      <td>0</td>\n",
       "      <td>436.127385</td>\n",
       "      <td>3.597240</td>\n",
       "      <td>20.883663</td>\n",
       "      <td>4267500</td>\n",
       "    </tr>\n",
       "    <tr>\n",
       "      <th>1</th>\n",
       "      <td>0</td>\n",
       "      <td>527.369301</td>\n",
       "      <td>3.664980</td>\n",
       "      <td>22.964523</td>\n",
       "      <td>1021950</td>\n",
       "    </tr>\n",
       "  </tbody>\n",
       "</table>\n",
       "</div>"
      ],
      "text/plain": [
       "                median        var     mean       std    count\n",
       "variant_number                                               \n",
       "0                    0 436.127385 3.597240 20.883663  4267500\n",
       "1                    0 527.369301 3.664980 22.964523  1021950"
      ]
     },
     "execution_count": 43,
     "metadata": {
      "tags": []
     },
     "output_type": "execute_result"
    },
    {
     "name": "stdout",
     "output_type": "stream",
     "text": [
      "Pre-experiment user activity for 0/1 variant number\n"
     ]
    },
    {
     "data": {
      "text/html": [
       "<div>\n",
       "<style scoped>\n",
       "    .dataframe tbody tr th:only-of-type {\n",
       "        vertical-align: middle;\n",
       "    }\n",
       "\n",
       "    .dataframe tbody tr th {\n",
       "        vertical-align: top;\n",
       "    }\n",
       "\n",
       "    .dataframe thead th {\n",
       "        text-align: right;\n",
       "    }\n",
       "</style>\n",
       "<table border=\"1\" class=\"dataframe\">\n",
       "  <thead>\n",
       "    <tr style=\"text-align: right;\">\n",
       "      <th></th>\n",
       "      <th>median</th>\n",
       "      <th>var</th>\n",
       "      <th>mean</th>\n",
       "      <th>std</th>\n",
       "      <th>count</th>\n",
       "    </tr>\n",
       "    <tr>\n",
       "      <th>variant_number</th>\n",
       "      <th></th>\n",
       "      <th></th>\n",
       "      <th></th>\n",
       "      <th></th>\n",
       "      <th></th>\n",
       "    </tr>\n",
       "  </thead>\n",
       "  <tbody>\n",
       "    <tr>\n",
       "      <th>0</th>\n",
       "      <td>0</td>\n",
       "      <td>444.105545</td>\n",
       "      <td>3.567514</td>\n",
       "      <td>21.073812</td>\n",
       "      <td>4267500</td>\n",
       "    </tr>\n",
       "    <tr>\n",
       "      <th>1</th>\n",
       "      <td>0</td>\n",
       "      <td>185.709906</td>\n",
       "      <td>2.120730</td>\n",
       "      <td>13.627542</td>\n",
       "      <td>1021950</td>\n",
       "    </tr>\n",
       "  </tbody>\n",
       "</table>\n",
       "</div>"
      ],
      "text/plain": [
       "                median        var     mean       std    count\n",
       "variant_number                                               \n",
       "0                    0 444.105545 3.567514 21.073812  4267500\n",
       "1                    0 185.709906 2.120730 13.627542  1021950"
      ]
     },
     "execution_count": 43,
     "metadata": {
      "tags": []
     },
     "output_type": "execute_result"
    }
   ],
   "source": [
    "#daily_usr_act.head()\n",
    "print(\"Before pre & post experiment analysis:\")\n",
    "daily_usr_act.groupby(['variant_number'],as_index=False).active_mins.agg({'mean','std','median','var','count'})\n",
    "print(\"After keeping users present in both phase + signup_dt<=2018-09-09 + dt>='2018-09-09'\")\n",
    "daily_usr_act_prepost.groupby(['variant_number'],as_index=False).active_mins.agg({'mean','std','median','var','count'})\n",
    "print(\"Pre-experiment user activity for 0/1 variant number\")\n",
    "daily_usr_act_pre.groupby(['variant_number'],as_index=False).active_mins.agg({'mean','std','median','var','count'})\n"
   ]
  },
  {
   "cell_type": "markdown",
   "metadata": {
    "id": "KOcrW317H19U"
   },
   "source": [
    "### From the above grpah we see that compared with the pre-experiment activity, for the treatment group the average active_mins have improved significantly whereas for the control group, the average active_mins is similar. Let's see if this same result is validated from Welch test too!"
   ]
  },
  {
   "cell_type": "code",
   "execution_count": null,
   "metadata": {
    "id": "z1l5qmy1H19V"
   },
   "outputs": [],
   "source": [
    "mean_0_pp = daily_usr_act_prepost[daily_usr_act_prepost['variant_number']==0].active_mins.mean()\n",
    "mean_1_pp = daily_usr_act_prepost[daily_usr_act_prepost['variant_number']==1].active_mins.mean()\n",
    "\n",
    "std_0_pp = daily_usr_act_prepost[daily_usr_act_prepost['variant_number']==0].active_mins.std()\n",
    "std_1_pp = daily_usr_act_prepost[daily_usr_act_prepost['variant_number']==1].active_mins.std()\n",
    "\n",
    "nobs0_pp = daily_usr_act_prepost[daily_usr_act_prepost['variant_number']==0].active_mins.count()\n",
    "nobs1_pp = daily_usr_act_prepost[daily_usr_act_prepost['variant_number']==1].active_mins.count()"
   ]
  },
  {
   "cell_type": "code",
   "execution_count": null,
   "metadata": {
    "colab": {
     "base_uri": "https://localhost:8080/"
    },
    "id": "UuTU-GcTH19W",
    "outputId": "9455cdb8-483e-4d4d-d24d-df0d5ce45f7d"
   },
   "outputs": [
    {
     "data": {
      "text/plain": [
       "Ttest_indResult(statistic=2.7243687718351812, pvalue=0.0064425297082406855)"
      ]
     },
     "execution_count": 45,
     "metadata": {
      "tags": []
     },
     "output_type": "execute_result"
    }
   ],
   "source": [
    "ttest_ind_from_stats(mean1=mean_1_pp,std1=std_1_pp,nobs1=nobs1_pp,\n",
    "                     mean2=mean_0_pp,std2=std_0_pp,nobs2=nobs0_pp, equal_var=False)"
   ]
  },
  {
   "cell_type": "markdown",
   "metadata": {
    "id": "C-RpJWtJH19Y"
   },
   "source": [
    "### The p-value is now significant taking the alpha=0.05. We now have enough evidence to reject our null hypothesis. It seems that the new UI design has an impact over user enagagment.\n",
    "\n",
    "### Calculating Confidence Interval"
   ]
  },
  {
   "cell_type": "code",
   "execution_count": null,
   "metadata": {
    "colab": {
     "base_uri": "https://localhost:8080/"
    },
    "id": "wS1eennFH19Z",
    "outputId": "80a4b4c1-82fe-406a-c170-d8640541f1cb"
   },
   "outputs": [
    {
     "data": {
      "text/plain": [
       "(0.01900648458041384, 0.11647323484016717)"
      ]
     },
     "execution_count": 46,
     "metadata": {
      "tags": []
     },
     "output_type": "execute_result"
    }
   ],
   "source": [
    "CI = calc_CI(mean_1_pp,std_1_pp,nobs1_pp,mean_0_pp,std_0_pp,nobs0_pp,0.95)\n",
    "CI"
   ]
  },
  {
   "cell_type": "code",
   "execution_count": null,
   "metadata": {
    "colab": {
     "base_uri": "https://localhost:8080/",
     "height": 206
    },
    "id": "pLTL3qsWH19a",
    "outputId": "f5688015-b09b-4c5d-f689-9ab2bd6648e2"
   },
   "outputs": [
    {
     "data": {
      "text/html": [
       "<div>\n",
       "<style scoped>\n",
       "    .dataframe tbody tr th:only-of-type {\n",
       "        vertical-align: middle;\n",
       "    }\n",
       "\n",
       "    .dataframe tbody tr th {\n",
       "        vertical-align: top;\n",
       "    }\n",
       "\n",
       "    .dataframe thead th {\n",
       "        text-align: right;\n",
       "    }\n",
       "</style>\n",
       "<table border=\"1\" class=\"dataframe\">\n",
       "  <thead>\n",
       "    <tr style=\"text-align: right;\">\n",
       "      <th></th>\n",
       "      <th>variant_number</th>\n",
       "      <th>uid</th>\n",
       "      <th>experiement_dt</th>\n",
       "      <th>signup_date</th>\n",
       "      <th>gender</th>\n",
       "      <th>user_type</th>\n",
       "      <th>dt</th>\n",
       "      <th>active_mins</th>\n",
       "    </tr>\n",
       "  </thead>\n",
       "  <tbody>\n",
       "    <tr>\n",
       "      <th>0</th>\n",
       "      <td>0</td>\n",
       "      <td>1</td>\n",
       "      <td>2019-02-06</td>\n",
       "      <td>2016-11-07</td>\n",
       "      <td>male</td>\n",
       "      <td>reader</td>\n",
       "      <td>2019-02-06</td>\n",
       "      <td>0</td>\n",
       "    </tr>\n",
       "    <tr>\n",
       "      <th>1</th>\n",
       "      <td>0</td>\n",
       "      <td>3</td>\n",
       "      <td>2019-02-06</td>\n",
       "      <td>2018-03-04</td>\n",
       "      <td>male</td>\n",
       "      <td>non_reader</td>\n",
       "      <td>2019-02-06</td>\n",
       "      <td>0</td>\n",
       "    </tr>\n",
       "    <tr>\n",
       "      <th>2</th>\n",
       "      <td>0</td>\n",
       "      <td>4</td>\n",
       "      <td>2019-02-06</td>\n",
       "      <td>2017-03-09</td>\n",
       "      <td>male</td>\n",
       "      <td>non_reader</td>\n",
       "      <td>2019-02-06</td>\n",
       "      <td>0</td>\n",
       "    </tr>\n",
       "    <tr>\n",
       "      <th>3</th>\n",
       "      <td>0</td>\n",
       "      <td>5</td>\n",
       "      <td>2019-02-06</td>\n",
       "      <td>2018-06-25</td>\n",
       "      <td>female</td>\n",
       "      <td>non_reader</td>\n",
       "      <td>2019-02-06</td>\n",
       "      <td>0</td>\n",
       "    </tr>\n",
       "    <tr>\n",
       "      <th>4</th>\n",
       "      <td>0</td>\n",
       "      <td>6</td>\n",
       "      <td>2019-02-06</td>\n",
       "      <td>2017-01-22</td>\n",
       "      <td>female</td>\n",
       "      <td>non_reader</td>\n",
       "      <td>2019-02-06</td>\n",
       "      <td>0</td>\n",
       "    </tr>\n",
       "  </tbody>\n",
       "</table>\n",
       "</div>"
      ],
      "text/plain": [
       "   variant_number  uid experiement_dt  ...   user_type          dt active_mins\n",
       "0               0    1     2019-02-06  ...      reader  2019-02-06           0\n",
       "1               0    3     2019-02-06  ...  non_reader  2019-02-06           0\n",
       "2               0    4     2019-02-06  ...  non_reader  2019-02-06           0\n",
       "3               0    5     2019-02-06  ...  non_reader  2019-02-06           0\n",
       "4               0    6     2019-02-06  ...  non_reader  2019-02-06           0\n",
       "\n",
       "[5 rows x 8 columns]"
      ]
     },
     "execution_count": 47,
     "metadata": {
      "tags": []
     },
     "output_type": "execute_result"
    }
   ],
   "source": [
    "daily_usr_act_prepost.head()"
   ]
  },
  {
   "cell_type": "markdown",
   "metadata": {
    "id": "IUCCwzd4H19d"
   },
   "source": [
    "### Pre-Post Analysis with Covariates\n",
    "\n",
    "Now we will be exploring the impact of new UI across two main covariates: gender and user_types. Here, we are interested to see if there had been significant change for any one group or not."
   ]
  },
  {
   "cell_type": "code",
   "execution_count": null,
   "metadata": {
    "colab": {
     "base_uri": "https://localhost:8080/",
     "height": 395
    },
    "id": "RiRKRap1H19e",
    "outputId": "1640d5aa-fd4e-4b1d-e18f-9b14741969ec"
   },
   "outputs": [
    {
     "data": {
      "text/html": [
       "<div>\n",
       "<style scoped>\n",
       "    .dataframe tbody tr th:only-of-type {\n",
       "        vertical-align: middle;\n",
       "    }\n",
       "\n",
       "    .dataframe tbody tr th {\n",
       "        vertical-align: top;\n",
       "    }\n",
       "\n",
       "    .dataframe thead th {\n",
       "        text-align: right;\n",
       "    }\n",
       "</style>\n",
       "<table border=\"1\" class=\"dataframe\">\n",
       "  <thead>\n",
       "    <tr style=\"text-align: right;\">\n",
       "      <th></th>\n",
       "      <th>variant_number</th>\n",
       "      <th>uid</th>\n",
       "      <th>experiement_dt</th>\n",
       "      <th>signup_date</th>\n",
       "      <th>gender</th>\n",
       "      <th>user_type</th>\n",
       "      <th>dt</th>\n",
       "      <th>active_mins</th>\n",
       "    </tr>\n",
       "  </thead>\n",
       "  <tbody>\n",
       "    <tr>\n",
       "      <th>0</th>\n",
       "      <td>0</td>\n",
       "      <td>1</td>\n",
       "      <td>2019-02-06</td>\n",
       "      <td>2016-11-07</td>\n",
       "      <td>male</td>\n",
       "      <td>reader</td>\n",
       "      <td>2019-02-06</td>\n",
       "      <td>0</td>\n",
       "    </tr>\n",
       "    <tr>\n",
       "      <th>1</th>\n",
       "      <td>0</td>\n",
       "      <td>3</td>\n",
       "      <td>2019-02-06</td>\n",
       "      <td>2018-03-04</td>\n",
       "      <td>male</td>\n",
       "      <td>non_reader</td>\n",
       "      <td>2019-02-06</td>\n",
       "      <td>0</td>\n",
       "    </tr>\n",
       "    <tr>\n",
       "      <th>2</th>\n",
       "      <td>0</td>\n",
       "      <td>4</td>\n",
       "      <td>2019-02-06</td>\n",
       "      <td>2017-03-09</td>\n",
       "      <td>male</td>\n",
       "      <td>non_reader</td>\n",
       "      <td>2019-02-06</td>\n",
       "      <td>0</td>\n",
       "    </tr>\n",
       "    <tr>\n",
       "      <th>3</th>\n",
       "      <td>0</td>\n",
       "      <td>5</td>\n",
       "      <td>2019-02-06</td>\n",
       "      <td>2018-06-25</td>\n",
       "      <td>female</td>\n",
       "      <td>non_reader</td>\n",
       "      <td>2019-02-06</td>\n",
       "      <td>0</td>\n",
       "    </tr>\n",
       "    <tr>\n",
       "      <th>4</th>\n",
       "      <td>0</td>\n",
       "      <td>6</td>\n",
       "      <td>2019-02-06</td>\n",
       "      <td>2017-01-22</td>\n",
       "      <td>female</td>\n",
       "      <td>non_reader</td>\n",
       "      <td>2019-02-06</td>\n",
       "      <td>0</td>\n",
       "    </tr>\n",
       "  </tbody>\n",
       "</table>\n",
       "</div>"
      ],
      "text/plain": [
       "   variant_number  uid experiement_dt  ...   user_type          dt active_mins\n",
       "0               0    1     2019-02-06  ...      reader  2019-02-06           0\n",
       "1               0    3     2019-02-06  ...  non_reader  2019-02-06           0\n",
       "2               0    4     2019-02-06  ...  non_reader  2019-02-06           0\n",
       "3               0    5     2019-02-06  ...  non_reader  2019-02-06           0\n",
       "4               0    6     2019-02-06  ...  non_reader  2019-02-06           0\n",
       "\n",
       "[5 rows x 8 columns]"
      ]
     },
     "execution_count": 48,
     "metadata": {
      "tags": []
     },
     "output_type": "execute_result"
    },
    {
     "data": {
      "text/html": [
       "<div>\n",
       "<style scoped>\n",
       "    .dataframe tbody tr th:only-of-type {\n",
       "        vertical-align: middle;\n",
       "    }\n",
       "\n",
       "    .dataframe tbody tr th {\n",
       "        vertical-align: top;\n",
       "    }\n",
       "\n",
       "    .dataframe thead th {\n",
       "        text-align: right;\n",
       "    }\n",
       "</style>\n",
       "<table border=\"1\" class=\"dataframe\">\n",
       "  <thead>\n",
       "    <tr style=\"text-align: right;\">\n",
       "      <th></th>\n",
       "      <th>variant_number</th>\n",
       "      <th>uid</th>\n",
       "      <th>experiement_dt</th>\n",
       "      <th>signup_date</th>\n",
       "      <th>gender</th>\n",
       "      <th>user_type</th>\n",
       "      <th>dt</th>\n",
       "      <th>active_mins</th>\n",
       "    </tr>\n",
       "  </thead>\n",
       "  <tbody>\n",
       "    <tr>\n",
       "      <th>0</th>\n",
       "      <td>0</td>\n",
       "      <td>1</td>\n",
       "      <td>2019-02-06</td>\n",
       "      <td>2016-11-07</td>\n",
       "      <td>male</td>\n",
       "      <td>reader</td>\n",
       "      <td>2018-09-09</td>\n",
       "      <td>371</td>\n",
       "    </tr>\n",
       "    <tr>\n",
       "      <th>1</th>\n",
       "      <td>0</td>\n",
       "      <td>3</td>\n",
       "      <td>2019-02-06</td>\n",
       "      <td>2018-03-04</td>\n",
       "      <td>male</td>\n",
       "      <td>non_reader</td>\n",
       "      <td>2018-09-09</td>\n",
       "      <td>0</td>\n",
       "    </tr>\n",
       "    <tr>\n",
       "      <th>2</th>\n",
       "      <td>0</td>\n",
       "      <td>4</td>\n",
       "      <td>2019-02-06</td>\n",
       "      <td>2017-03-09</td>\n",
       "      <td>male</td>\n",
       "      <td>non_reader</td>\n",
       "      <td>2018-09-09</td>\n",
       "      <td>1</td>\n",
       "    </tr>\n",
       "    <tr>\n",
       "      <th>3</th>\n",
       "      <td>0</td>\n",
       "      <td>5</td>\n",
       "      <td>2019-02-06</td>\n",
       "      <td>2018-06-25</td>\n",
       "      <td>female</td>\n",
       "      <td>non_reader</td>\n",
       "      <td>2018-09-09</td>\n",
       "      <td>0</td>\n",
       "    </tr>\n",
       "    <tr>\n",
       "      <th>4</th>\n",
       "      <td>0</td>\n",
       "      <td>6</td>\n",
       "      <td>2019-02-06</td>\n",
       "      <td>2017-01-22</td>\n",
       "      <td>female</td>\n",
       "      <td>non_reader</td>\n",
       "      <td>2018-09-09</td>\n",
       "      <td>0</td>\n",
       "    </tr>\n",
       "  </tbody>\n",
       "</table>\n",
       "</div>"
      ],
      "text/plain": [
       "   variant_number  uid experiement_dt  ...   user_type          dt active_mins\n",
       "0               0    1     2019-02-06  ...      reader  2018-09-09         371\n",
       "1               0    3     2019-02-06  ...  non_reader  2018-09-09           0\n",
       "2               0    4     2019-02-06  ...  non_reader  2018-09-09           1\n",
       "3               0    5     2019-02-06  ...  non_reader  2018-09-09           0\n",
       "4               0    6     2019-02-06  ...  non_reader  2018-09-09           0\n",
       "\n",
       "[5 rows x 8 columns]"
      ]
     },
     "execution_count": 48,
     "metadata": {
      "tags": []
     },
     "output_type": "execute_result"
    }
   ],
   "source": [
    "daily_usr_act_prepost.head()\n",
    "daily_usr_act_pre.head()"
   ]
  },
  {
   "cell_type": "code",
   "execution_count": null,
   "metadata": {
    "colab": {
     "base_uri": "https://localhost:8080/",
     "height": 112
    },
    "id": "F6BCCTrCH19n",
    "outputId": "f11e2a20-1e41-4d9b-8b17-331cc0348812"
   },
   "outputs": [
    {
     "data": {
      "text/html": [
       "<div>\n",
       "<style scoped>\n",
       "    .dataframe tbody tr th:only-of-type {\n",
       "        vertical-align: middle;\n",
       "    }\n",
       "\n",
       "    .dataframe tbody tr th {\n",
       "        vertical-align: top;\n",
       "    }\n",
       "\n",
       "    .dataframe thead th {\n",
       "        text-align: right;\n",
       "    }\n",
       "</style>\n",
       "<table border=\"1\" class=\"dataframe\">\n",
       "  <thead>\n",
       "    <tr style=\"text-align: right;\">\n",
       "      <th></th>\n",
       "      <th>variant_number</th>\n",
       "      <th>uid</th>\n",
       "      <th>experiement_dt</th>\n",
       "      <th>signup_date</th>\n",
       "      <th>gender</th>\n",
       "      <th>user_type</th>\n",
       "      <th>dt</th>\n",
       "      <th>active_mins</th>\n",
       "    </tr>\n",
       "  </thead>\n",
       "  <tbody>\n",
       "    <tr>\n",
       "      <th>0</th>\n",
       "      <td>1</td>\n",
       "      <td>40001</td>\n",
       "      <td>2019-02-06</td>\n",
       "      <td>2017-04-29</td>\n",
       "      <td>male</td>\n",
       "      <td>non_reader</td>\n",
       "      <td>2019-02-06</td>\n",
       "      <td>0</td>\n",
       "    </tr>\n",
       "    <tr>\n",
       "      <th>1</th>\n",
       "      <td>1</td>\n",
       "      <td>40002</td>\n",
       "      <td>2019-02-06</td>\n",
       "      <td>2015-08-22</td>\n",
       "      <td>male</td>\n",
       "      <td>non_reader</td>\n",
       "      <td>2019-02-06</td>\n",
       "      <td>0</td>\n",
       "    </tr>\n",
       "  </tbody>\n",
       "</table>\n",
       "</div>"
      ],
      "text/plain": [
       "   variant_number    uid experiement_dt  ...   user_type          dt active_mins\n",
       "0               1  40001     2019-02-06  ...  non_reader  2019-02-06           0\n",
       "1               1  40002     2019-02-06  ...  non_reader  2019-02-06           0\n",
       "\n",
       "[2 rows x 8 columns]"
      ]
     },
     "execution_count": 49,
     "metadata": {
      "tags": []
     },
     "output_type": "execute_result"
    }
   ],
   "source": [
    "## Merging both the pre & post dataset to have two main df with vairant number's activity pre & post new UI launch\n",
    "temp1 = daily_usr_act_prepost[daily_usr_act_prepost.variant_number==1]\n",
    "temp2 = daily_usr_act_pre[daily_usr_act_pre.variant_number==1]\n",
    "daily_usr_1 = pd.concat([temp1,temp2],ignore_index=True)\n",
    "\n",
    "daily_usr_1.head(2)\n",
    "del temp1\n",
    "del temp2\n",
    "\n",
    "check10 = daily_usr_act_prepost[daily_usr_act_prepost.variant_number==0]\n",
    "check20 = daily_usr_act_pre[daily_usr_act_pre.variant_number==0]\n",
    "daily_usr_0 = pd.concat([check10,check20],ignore_index=True)\n",
    "\n",
    "del check10\n",
    "del check20"
   ]
  },
  {
   "cell_type": "markdown",
   "metadata": {
    "id": "KmPNlM-FH19h"
   },
   "source": [
    "### Checking if the distribution of users across gender and user_types is balanced or not!"
   ]
  },
  {
   "cell_type": "code",
   "execution_count": null,
   "metadata": {
    "colab": {
     "base_uri": "https://localhost:8080/",
     "height": 255
    },
    "id": "h7YL3s94H19h",
    "outputId": "cfe589e0-4a06-438c-f9ad-5f7f9a7ffa3a"
   },
   "outputs": [
    {
     "name": "stdout",
     "output_type": "stream",
     "text": [
      "50000 50000 50000\n"
     ]
    },
    {
     "data": {
      "text/html": [
       "<div>\n",
       "<style scoped>\n",
       "    .dataframe tbody tr th:only-of-type {\n",
       "        vertical-align: middle;\n",
       "    }\n",
       "\n",
       "    .dataframe tbody tr th {\n",
       "        vertical-align: top;\n",
       "    }\n",
       "\n",
       "    .dataframe thead th {\n",
       "        text-align: right;\n",
       "    }\n",
       "</style>\n",
       "<table border=\"1\" class=\"dataframe\">\n",
       "  <thead>\n",
       "    <tr style=\"text-align: right;\">\n",
       "      <th></th>\n",
       "      <th>variant_number</th>\n",
       "      <th>gender</th>\n",
       "      <th>uid</th>\n",
       "    </tr>\n",
       "  </thead>\n",
       "  <tbody>\n",
       "    <tr>\n",
       "      <th>0</th>\n",
       "      <td>0</td>\n",
       "      <td>female</td>\n",
       "      <td>11607</td>\n",
       "    </tr>\n",
       "    <tr>\n",
       "      <th>1</th>\n",
       "      <td>0</td>\n",
       "      <td>male</td>\n",
       "      <td>22237</td>\n",
       "    </tr>\n",
       "    <tr>\n",
       "      <th>2</th>\n",
       "      <td>0</td>\n",
       "      <td>unknown</td>\n",
       "      <td>6156</td>\n",
       "    </tr>\n",
       "    <tr>\n",
       "      <th>3</th>\n",
       "      <td>1</td>\n",
       "      <td>female</td>\n",
       "      <td>2870</td>\n",
       "    </tr>\n",
       "    <tr>\n",
       "      <th>4</th>\n",
       "      <td>1</td>\n",
       "      <td>male</td>\n",
       "      <td>5520</td>\n",
       "    </tr>\n",
       "    <tr>\n",
       "      <th>5</th>\n",
       "      <td>1</td>\n",
       "      <td>unknown</td>\n",
       "      <td>1610</td>\n",
       "    </tr>\n",
       "  </tbody>\n",
       "</table>\n",
       "</div>"
      ],
      "text/plain": [
       "   variant_number   gender    uid\n",
       "0               0   female  11607\n",
       "1               0     male  22237\n",
       "2               0  unknown   6156\n",
       "3               1   female   2870\n",
       "4               1     male   5520\n",
       "5               1  unknown   1610"
      ]
     },
     "execution_count": 50,
     "metadata": {
      "tags": []
     },
     "output_type": "execute_result"
    }
   ],
   "source": [
    "temp = pd.merge(t2_usr_variant,t4_usr_attributes,on=\"uid\",how=\"left\")\n",
    "print(t2_usr_variant.shape[0], t4_usr_attributes.shape[0], temp.shape[0])\n",
    "temp.groupby(['variant_number','gender'],as_index=False).agg({'uid':'count'})"
   ]
  },
  {
   "cell_type": "markdown",
   "metadata": {
    "id": "B9JW5KY0H19j"
   },
   "source": [
    "### Thus we see that though the distribution of male-female users are same in both variant group the male users are more prominant than the female users"
   ]
  },
  {
   "cell_type": "markdown",
   "metadata": {
    "id": "nlVaPBj0H19k"
   },
   "source": [
    "### Gender-wise active_mins spent pre & post the new UI launch"
   ]
  },
  {
   "cell_type": "code",
   "execution_count": null,
   "metadata": {
    "colab": {
     "base_uri": "https://localhost:8080/",
     "height": 556
    },
    "id": "IzYmJ24rH19k",
    "outputId": "d969e612-68d7-4c96-b253-d7ece3639d99"
   },
   "outputs": [
    {
     "name": "stdout",
     "output_type": "stream",
     "text": [
      "Before the Experiment:\n"
     ]
    },
    {
     "data": {
      "text/html": [
       "<div>\n",
       "<style scoped>\n",
       "    .dataframe tbody tr th:only-of-type {\n",
       "        vertical-align: middle;\n",
       "    }\n",
       "\n",
       "    .dataframe tbody tr th {\n",
       "        vertical-align: top;\n",
       "    }\n",
       "\n",
       "    .dataframe thead th {\n",
       "        text-align: right;\n",
       "    }\n",
       "</style>\n",
       "<table border=\"1\" class=\"dataframe\">\n",
       "  <thead>\n",
       "    <tr style=\"text-align: right;\">\n",
       "      <th></th>\n",
       "      <th></th>\n",
       "      <th>mean</th>\n",
       "      <th>median</th>\n",
       "      <th>std</th>\n",
       "      <th>count</th>\n",
       "    </tr>\n",
       "    <tr>\n",
       "      <th>variant_number</th>\n",
       "      <th>gender</th>\n",
       "      <th></th>\n",
       "      <th></th>\n",
       "      <th></th>\n",
       "      <th></th>\n",
       "    </tr>\n",
       "  </thead>\n",
       "  <tbody>\n",
       "    <tr>\n",
       "      <th rowspan=\"3\" valign=\"top\">0</th>\n",
       "      <th>female</th>\n",
       "      <td>2.821831</td>\n",
       "      <td>0</td>\n",
       "      <td>18.242764</td>\n",
       "      <td>1176300</td>\n",
       "    </tr>\n",
       "    <tr>\n",
       "      <th>male</th>\n",
       "      <td>4.106219</td>\n",
       "      <td>0</td>\n",
       "      <td>22.868391</td>\n",
       "      <td>2491800</td>\n",
       "    </tr>\n",
       "    <tr>\n",
       "      <th>unknown</th>\n",
       "      <td>2.791405</td>\n",
       "      <td>0</td>\n",
       "      <td>18.215894</td>\n",
       "      <td>599400</td>\n",
       "    </tr>\n",
       "    <tr>\n",
       "      <th rowspan=\"3\" valign=\"top\">1</th>\n",
       "      <th>female</th>\n",
       "      <td>1.652412</td>\n",
       "      <td>0</td>\n",
       "      <td>10.456504</td>\n",
       "      <td>274650</td>\n",
       "    </tr>\n",
       "    <tr>\n",
       "      <th>male</th>\n",
       "      <td>2.369502</td>\n",
       "      <td>0</td>\n",
       "      <td>14.972533</td>\n",
       "      <td>597750</td>\n",
       "    </tr>\n",
       "    <tr>\n",
       "      <th>unknown</th>\n",
       "      <td>1.986459</td>\n",
       "      <td>0</td>\n",
       "      <td>13.097676</td>\n",
       "      <td>149550</td>\n",
       "    </tr>\n",
       "  </tbody>\n",
       "</table>\n",
       "</div>"
      ],
      "text/plain": [
       "                           mean  median       std    count\n",
       "variant_number gender                                     \n",
       "0              female  2.821831       0 18.242764  1176300\n",
       "               male    4.106219       0 22.868391  2491800\n",
       "               unknown 2.791405       0 18.215894   599400\n",
       "1              female  1.652412       0 10.456504   274650\n",
       "               male    2.369502       0 14.972533   597750\n",
       "               unknown 1.986459       0 13.097676   149550"
      ]
     },
     "execution_count": 51,
     "metadata": {
      "tags": []
     },
     "output_type": "execute_result"
    },
    {
     "name": "stdout",
     "output_type": "stream",
     "text": [
      "After the Experiment:\n"
     ]
    },
    {
     "data": {
      "text/html": [
       "<div>\n",
       "<style scoped>\n",
       "    .dataframe tbody tr th:only-of-type {\n",
       "        vertical-align: middle;\n",
       "    }\n",
       "\n",
       "    .dataframe tbody tr th {\n",
       "        vertical-align: top;\n",
       "    }\n",
       "\n",
       "    .dataframe thead th {\n",
       "        text-align: right;\n",
       "    }\n",
       "</style>\n",
       "<table border=\"1\" class=\"dataframe\">\n",
       "  <thead>\n",
       "    <tr style=\"text-align: right;\">\n",
       "      <th></th>\n",
       "      <th></th>\n",
       "      <th>mean</th>\n",
       "      <th>median</th>\n",
       "      <th>std</th>\n",
       "      <th>count</th>\n",
       "    </tr>\n",
       "    <tr>\n",
       "      <th>variant_number</th>\n",
       "      <th>gender</th>\n",
       "      <th></th>\n",
       "      <th></th>\n",
       "      <th></th>\n",
       "      <th></th>\n",
       "    </tr>\n",
       "  </thead>\n",
       "  <tbody>\n",
       "    <tr>\n",
       "      <th rowspan=\"3\" valign=\"top\">0</th>\n",
       "      <th>female</th>\n",
       "      <td>2.775077</td>\n",
       "      <td>0</td>\n",
       "      <td>17.458284</td>\n",
       "      <td>1176300</td>\n",
       "    </tr>\n",
       "    <tr>\n",
       "      <th>male</th>\n",
       "      <td>4.247247</td>\n",
       "      <td>0</td>\n",
       "      <td>23.219596</td>\n",
       "      <td>2491800</td>\n",
       "    </tr>\n",
       "    <tr>\n",
       "      <th>unknown</th>\n",
       "      <td>2.508522</td>\n",
       "      <td>0</td>\n",
       "      <td>16.165456</td>\n",
       "      <td>599400</td>\n",
       "    </tr>\n",
       "    <tr>\n",
       "      <th rowspan=\"3\" valign=\"top\">1</th>\n",
       "      <th>female</th>\n",
       "      <td>2.733810</td>\n",
       "      <td>0</td>\n",
       "      <td>17.665349</td>\n",
       "      <td>274650</td>\n",
       "    </tr>\n",
       "    <tr>\n",
       "      <th>male</th>\n",
       "      <td>4.202844</td>\n",
       "      <td>0</td>\n",
       "      <td>25.561195</td>\n",
       "      <td>597750</td>\n",
       "    </tr>\n",
       "    <tr>\n",
       "      <th>unknown</th>\n",
       "      <td>3.225242</td>\n",
       "      <td>0</td>\n",
       "      <td>20.400976</td>\n",
       "      <td>149550</td>\n",
       "    </tr>\n",
       "  </tbody>\n",
       "</table>\n",
       "</div>"
      ],
      "text/plain": [
       "                           mean  median       std    count\n",
       "variant_number gender                                     \n",
       "0              female  2.775077       0 17.458284  1176300\n",
       "               male    4.247247       0 23.219596  2491800\n",
       "               unknown 2.508522       0 16.165456   599400\n",
       "1              female  2.733810       0 17.665349   274650\n",
       "               male    4.202844       0 25.561195   597750\n",
       "               unknown 3.225242       0 20.400976   149550"
      ]
     },
     "execution_count": 51,
     "metadata": {
      "tags": []
     },
     "output_type": "execute_result"
    }
   ],
   "source": [
    "print(\"Before the Experiment:\")\n",
    "daily_usr_act_pre.groupby(['variant_number','gender'],as_index=False).active_mins.agg({'mean','std','median','count'})\n",
    "\n",
    "print(\"After the Experiment:\")\n",
    "daily_usr_act_prepost.groupby(['variant_number','gender'],as_index=False).active_mins.agg({'mean','std','median','count'})"
   ]
  },
  {
   "cell_type": "code",
   "execution_count": null,
   "metadata": {
    "colab": {
     "base_uri": "https://localhost:8080/",
     "height": 626
    },
    "id": "Q8zOnOBSH19w",
    "outputId": "763e6d54-b1c2-4990-b9ab-89dc3842c4b4"
   },
   "outputs": [
    {
     "data": {
      "text/plain": [
       "<Figure size 1296x576 with 0 Axes>"
      ]
     },
     "execution_count": 57,
     "metadata": {
      "tags": []
     },
     "output_type": "execute_result"
    },
    {
     "data": {
      "text/plain": [
       "<matplotlib.axes._subplots.AxesSubplot at 0x7f4bab29f4e0>"
      ]
     },
     "execution_count": 57,
     "metadata": {
      "tags": []
     },
     "output_type": "execute_result"
    },
    {
     "data": {
      "text/plain": [
       "Text(0.0, 1.0, 'Average time spent by gender - Variant Group')"
      ]
     },
     "execution_count": 57,
     "metadata": {
      "tags": []
     },
     "output_type": "execute_result"
    },
    {
     "data": {
      "text/plain": [
       "<matplotlib.axes._subplots.AxesSubplot at 0x7f4bab29f4e0>"
      ]
     },
     "execution_count": 57,
     "metadata": {
      "tags": []
     },
     "output_type": "execute_result"
    },
    {
     "data": {
      "text/plain": [
       "<matplotlib.lines.Line2D at 0x7f4baad395f8>"
      ]
     },
     "execution_count": 57,
     "metadata": {
      "tags": []
     },
     "output_type": "execute_result"
    },
    {
     "data": {
      "text/plain": [
       "Text(2019-02-06, 1, 'experiment')"
      ]
     },
     "execution_count": 57,
     "metadata": {
      "tags": []
     },
     "output_type": "execute_result"
    },
    {
     "data": {
      "text/plain": [
       "<matplotlib.axes._subplots.AxesSubplot at 0x7f4baa656eb8>"
      ]
     },
     "execution_count": 57,
     "metadata": {
      "tags": []
     },
     "output_type": "execute_result"
    },
    {
     "data": {
      "text/plain": [
       "Text(0.0, 1.0, 'Average time spent by gender - Control Group')"
      ]
     },
     "execution_count": 57,
     "metadata": {
      "tags": []
     },
     "output_type": "execute_result"
    },
    {
     "data": {
      "text/plain": [
       "<matplotlib.axes._subplots.AxesSubplot at 0x7f4baa656eb8>"
      ]
     },
     "execution_count": 57,
     "metadata": {
      "tags": []
     },
     "output_type": "execute_result"
    },
    {
     "data": {
      "text/plain": [
       "<matplotlib.lines.Line2D at 0x7f4baa8e2828>"
      ]
     },
     "execution_count": 57,
     "metadata": {
      "tags": []
     },
     "output_type": "execute_result"
    },
    {
     "data": {
      "text/plain": [
       "Text(2019-02-06, 2, 'experiment')"
      ]
     },
     "execution_count": 57,
     "metadata": {
      "tags": []
     },
     "output_type": "execute_result"
    },
    {
     "data": {
      "image/png": "[encoded data removed]",
      "text/plain": [
       "<Figure size 1296x576 with 2 Axes>"
      ]
     },
     "metadata": {
      "needs_background": "light",
      "tags": []
     },
     "output_type": "display_data"
    }
   ],
   "source": [
    "plt.figure(figsize=(18,8))\n",
    "plt.subplot(2,1,1)\n",
    "plt.title('Average time spent by gender - Variant Group',loc='left', fontsize=15)\n",
    "data=daily_usr_1.groupby(['gender','dt'],as_index=False).active_mins.mean()\n",
    "sns.lineplot(data=data,x='dt',y='active_mins',hue='gender')\n",
    "plt.axvline(x = daily_usr_1.experiement_dt.max(), color = 'red')\n",
    "plt.text(x = daily_usr_1.experiement_dt.max(),y=1,s ='experiment', fontsize =15)\n",
    "plt.subplot(2,1,2)\n",
    "plt.title('Average time spent by gender - Control Group',loc='left',fontsize=15)\n",
    "data=daily_usr_0.groupby(['gender','dt'],as_index=False).active_mins.mean()\n",
    "sns.lineplot(data=data,x='dt',y='active_mins',hue='gender')\n",
    "plt.axvline(x = daily_usr_0.experiement_dt.max(), color = 'red')\n",
    "plt.text(x = daily_usr_0.experiement_dt.max(),y=2,s ='experiment', fontsize =15)\n",
    "plt.savefig(\"Time Series Analysis for Average time spent by gender\")"
   ]
  },
  {
   "cell_type": "markdown",
   "metadata": {
    "id": "HyxPUrNZUbMO"
   },
   "source": [
    "Thus we see from above graph that for variant group=1 or Treatment group there is significant improvement in average acitve minutes. Also, comparing within the genders, we see male members have a higher activity in comparison their female counterparts. In control group there is not much change in acitivity."
   ]
  },
  {
   "cell_type": "markdown",
   "metadata": {
    "id": "CKhHTdQNUPo9"
   },
   "source": [
    "# Checking if the distribution of users across user_types is balanced or not!¶"
   ]
  },
  {
   "cell_type": "code",
   "execution_count": null,
   "metadata": {
    "colab": {
     "base_uri": "https://localhost:8080/",
     "height": 318
    },
    "id": "3RVrK_B7H195",
    "outputId": "6f4cb864-3da3-4931-ea29-1fe3c268bcb7"
   },
   "outputs": [
    {
     "name": "stdout",
     "output_type": "stream",
     "text": [
      "50000 50000 50000\n"
     ]
    },
    {
     "data": {
      "text/html": [
       "<div>\n",
       "<style scoped>\n",
       "    .dataframe tbody tr th:only-of-type {\n",
       "        vertical-align: middle;\n",
       "    }\n",
       "\n",
       "    .dataframe tbody tr th {\n",
       "        vertical-align: top;\n",
       "    }\n",
       "\n",
       "    .dataframe thead th {\n",
       "        text-align: right;\n",
       "    }\n",
       "</style>\n",
       "<table border=\"1\" class=\"dataframe\">\n",
       "  <thead>\n",
       "    <tr style=\"text-align: right;\">\n",
       "      <th></th>\n",
       "      <th>variant_number</th>\n",
       "      <th>user_type</th>\n",
       "      <th>uid</th>\n",
       "    </tr>\n",
       "  </thead>\n",
       "  <tbody>\n",
       "    <tr>\n",
       "      <th>0</th>\n",
       "      <td>0</td>\n",
       "      <td>contributor</td>\n",
       "      <td>915</td>\n",
       "    </tr>\n",
       "    <tr>\n",
       "      <th>1</th>\n",
       "      <td>0</td>\n",
       "      <td>new_user</td>\n",
       "      <td>3653</td>\n",
       "    </tr>\n",
       "    <tr>\n",
       "      <th>2</th>\n",
       "      <td>0</td>\n",
       "      <td>non_reader</td>\n",
       "      <td>28699</td>\n",
       "    </tr>\n",
       "    <tr>\n",
       "      <th>3</th>\n",
       "      <td>0</td>\n",
       "      <td>reader</td>\n",
       "      <td>6733</td>\n",
       "    </tr>\n",
       "    <tr>\n",
       "      <th>4</th>\n",
       "      <td>1</td>\n",
       "      <td>contributor</td>\n",
       "      <td>129</td>\n",
       "    </tr>\n",
       "    <tr>\n",
       "      <th>5</th>\n",
       "      <td>1</td>\n",
       "      <td>new_user</td>\n",
       "      <td>1235</td>\n",
       "    </tr>\n",
       "    <tr>\n",
       "      <th>6</th>\n",
       "      <td>1</td>\n",
       "      <td>non_reader</td>\n",
       "      <td>7367</td>\n",
       "    </tr>\n",
       "    <tr>\n",
       "      <th>7</th>\n",
       "      <td>1</td>\n",
       "      <td>reader</td>\n",
       "      <td>1269</td>\n",
       "    </tr>\n",
       "  </tbody>\n",
       "</table>\n",
       "</div>"
      ],
      "text/plain": [
       "   variant_number    user_type    uid\n",
       "0               0  contributor    915\n",
       "1               0     new_user   3653\n",
       "2               0   non_reader  28699\n",
       "3               0       reader   6733\n",
       "4               1  contributor    129\n",
       "5               1     new_user   1235\n",
       "6               1   non_reader   7367\n",
       "7               1       reader   1269"
      ]
     },
     "execution_count": 53,
     "metadata": {
      "tags": []
     },
     "output_type": "execute_result"
    }
   ],
   "source": [
    "temp = pd.merge(t2_usr_variant,t4_usr_attributes,on=\"uid\",how=\"left\")\n",
    "print(t2_usr_variant.shape[0], t4_usr_attributes.shape[0], temp.shape[0])\n",
    "temp.groupby(['variant_number','user_type'],as_index=False).agg({'uid':'count'})"
   ]
  },
  {
   "cell_type": "markdown",
   "metadata": {
    "id": "v54imRguU2dA"
   },
   "source": [
    "### Thus we see that though the distribution of reader, non-reader & contributor users are same in both variant group there is a high proportion of non-reader users in the control & treatment groups. Given that the aim was to increase user engagement amongst all types of users, therefore the distribution should have been balanced. But having said so, I am also wondering if there was some critical changes introduced in new UI meant for converting non-reader users to other types. This information will be probably more useful. "
   ]
  },
  {
   "cell_type": "code",
   "execution_count": null,
   "metadata": {
    "colab": {
     "base_uri": "https://localhost:8080/",
     "height": 556
    },
    "id": "idWQ8imfH1-A",
    "outputId": "2319af06-84e0-45bf-898f-b371fb59ac4c"
   },
   "outputs": [
    {
     "name": "stdout",
     "output_type": "stream",
     "text": [
      "Before the Experiment:\n"
     ]
    },
    {
     "data": {
      "text/html": [
       "<div>\n",
       "<style scoped>\n",
       "    .dataframe tbody tr th:only-of-type {\n",
       "        vertical-align: middle;\n",
       "    }\n",
       "\n",
       "    .dataframe tbody tr th {\n",
       "        vertical-align: top;\n",
       "    }\n",
       "\n",
       "    .dataframe thead th {\n",
       "        text-align: right;\n",
       "    }\n",
       "</style>\n",
       "<table border=\"1\" class=\"dataframe\">\n",
       "  <thead>\n",
       "    <tr style=\"text-align: right;\">\n",
       "      <th></th>\n",
       "      <th></th>\n",
       "      <th>mean</th>\n",
       "      <th>median</th>\n",
       "      <th>std</th>\n",
       "      <th>count</th>\n",
       "    </tr>\n",
       "    <tr>\n",
       "      <th>variant_number</th>\n",
       "      <th>user_type</th>\n",
       "      <th></th>\n",
       "      <th></th>\n",
       "      <th></th>\n",
       "      <th></th>\n",
       "    </tr>\n",
       "  </thead>\n",
       "  <tbody>\n",
       "    <tr>\n",
       "      <th rowspan=\"3\" valign=\"top\">0</th>\n",
       "      <th>contributor</th>\n",
       "      <td>31.377330</td>\n",
       "      <td>0</td>\n",
       "      <td>78.160294</td>\n",
       "      <td>118350</td>\n",
       "    </tr>\n",
       "    <tr>\n",
       "      <th>non_reader</th>\n",
       "      <td>0.679109</td>\n",
       "      <td>0</td>\n",
       "      <td>4.643202</td>\n",
       "      <td>3279300</td>\n",
       "    </tr>\n",
       "    <tr>\n",
       "      <th>reader</th>\n",
       "      <td>10.672939</td>\n",
       "      <td>0</td>\n",
       "      <td>32.850768</td>\n",
       "      <td>869850</td>\n",
       "    </tr>\n",
       "    <tr>\n",
       "      <th rowspan=\"3\" valign=\"top\">1</th>\n",
       "      <th>contributor</th>\n",
       "      <td>20.423425</td>\n",
       "      <td>0</td>\n",
       "      <td>59.951643</td>\n",
       "      <td>16350</td>\n",
       "    </tr>\n",
       "    <tr>\n",
       "      <th>non_reader</th>\n",
       "      <td>0.632386</td>\n",
       "      <td>0</td>\n",
       "      <td>3.987967</td>\n",
       "      <td>838950</td>\n",
       "    </tr>\n",
       "    <tr>\n",
       "      <th>reader</th>\n",
       "      <td>7.817684</td>\n",
       "      <td>0</td>\n",
       "      <td>25.093694</td>\n",
       "      <td>166650</td>\n",
       "    </tr>\n",
       "  </tbody>\n",
       "</table>\n",
       "</div>"
      ],
      "text/plain": [
       "                                mean  median       std    count\n",
       "variant_number user_type                                       \n",
       "0              contributor 31.377330       0 78.160294   118350\n",
       "               non_reader   0.679109       0  4.643202  3279300\n",
       "               reader      10.672939       0 32.850768   869850\n",
       "1              contributor 20.423425       0 59.951643    16350\n",
       "               non_reader   0.632386       0  3.987967   838950\n",
       "               reader       7.817684       0 25.093694   166650"
      ]
     },
     "execution_count": 54,
     "metadata": {
      "tags": []
     },
     "output_type": "execute_result"
    },
    {
     "name": "stdout",
     "output_type": "stream",
     "text": [
      "After the Experiment:\n"
     ]
    },
    {
     "data": {
      "text/html": [
       "<div>\n",
       "<style scoped>\n",
       "    .dataframe tbody tr th:only-of-type {\n",
       "        vertical-align: middle;\n",
       "    }\n",
       "\n",
       "    .dataframe tbody tr th {\n",
       "        vertical-align: top;\n",
       "    }\n",
       "\n",
       "    .dataframe thead th {\n",
       "        text-align: right;\n",
       "    }\n",
       "</style>\n",
       "<table border=\"1\" class=\"dataframe\">\n",
       "  <thead>\n",
       "    <tr style=\"text-align: right;\">\n",
       "      <th></th>\n",
       "      <th></th>\n",
       "      <th>mean</th>\n",
       "      <th>median</th>\n",
       "      <th>std</th>\n",
       "      <th>count</th>\n",
       "    </tr>\n",
       "    <tr>\n",
       "      <th>variant_number</th>\n",
       "      <th>user_type</th>\n",
       "      <th></th>\n",
       "      <th></th>\n",
       "      <th></th>\n",
       "      <th></th>\n",
       "    </tr>\n",
       "  </thead>\n",
       "  <tbody>\n",
       "    <tr>\n",
       "      <th rowspan=\"3\" valign=\"top\">0</th>\n",
       "      <th>contributor</th>\n",
       "      <td>30.591390</td>\n",
       "      <td>0</td>\n",
       "      <td>75.813302</td>\n",
       "      <td>118350</td>\n",
       "    </tr>\n",
       "    <tr>\n",
       "      <th>non_reader</th>\n",
       "      <td>0.746917</td>\n",
       "      <td>0</td>\n",
       "      <td>5.362558</td>\n",
       "      <td>3279300</td>\n",
       "    </tr>\n",
       "    <tr>\n",
       "      <th>reader</th>\n",
       "      <td>10.670074</td>\n",
       "      <td>0</td>\n",
       "      <td>32.702177</td>\n",
       "      <td>869850</td>\n",
       "    </tr>\n",
       "    <tr>\n",
       "      <th rowspan=\"3\" valign=\"top\">1</th>\n",
       "      <th>contributor</th>\n",
       "      <td>31.027951</td>\n",
       "      <td>0</td>\n",
       "      <td>87.315865</td>\n",
       "      <td>16350</td>\n",
       "    </tr>\n",
       "    <tr>\n",
       "      <th>non_reader</th>\n",
       "      <td>1.164220</td>\n",
       "      <td>0</td>\n",
       "      <td>8.378647</td>\n",
       "      <td>838950</td>\n",
       "    </tr>\n",
       "    <tr>\n",
       "      <th>reader</th>\n",
       "      <td>13.569739</td>\n",
       "      <td>0</td>\n",
       "      <td>43.927194</td>\n",
       "      <td>166650</td>\n",
       "    </tr>\n",
       "  </tbody>\n",
       "</table>\n",
       "</div>"
      ],
      "text/plain": [
       "                                mean  median       std    count\n",
       "variant_number user_type                                       \n",
       "0              contributor 30.591390       0 75.813302   118350\n",
       "               non_reader   0.746917       0  5.362558  3279300\n",
       "               reader      10.670074       0 32.702177   869850\n",
       "1              contributor 31.027951       0 87.315865    16350\n",
       "               non_reader   1.164220       0  8.378647   838950\n",
       "               reader      13.569739       0 43.927194   166650"
      ]
     },
     "execution_count": 54,
     "metadata": {
      "tags": []
     },
     "output_type": "execute_result"
    }
   ],
   "source": [
    "print(\"Before the Experiment:\")\n",
    "daily_usr_act_pre.groupby(['variant_number','user_type'],as_index=False).active_mins.agg({'mean','std','median','count'})\n",
    "\n",
    "print(\"After the Experiment:\")\n",
    "daily_usr_act_prepost.groupby(['variant_number','user_type'],as_index=False).active_mins.agg({'mean','std','median','count'})"
   ]
  },
  {
   "cell_type": "code",
   "execution_count": null,
   "metadata": {
    "colab": {
     "base_uri": "https://localhost:8080/",
     "height": 628
    },
    "id": "SS_KZ3GkH1-D",
    "outputId": "e23ff4d6-c86b-472e-c822-ab8183a9d08c"
   },
   "outputs": [
    {
     "data": {
      "text/plain": [
       "<Figure size 1296x576 with 0 Axes>"
      ]
     },
     "execution_count": 56,
     "metadata": {
      "tags": []
     },
     "output_type": "execute_result"
    },
    {
     "data": {
      "text/plain": [
       "<matplotlib.axes._subplots.AxesSubplot at 0x7f4bad5bf0f0>"
      ]
     },
     "execution_count": 56,
     "metadata": {
      "tags": []
     },
     "output_type": "execute_result"
    },
    {
     "data": {
      "text/plain": [
       "Text(0.0, 1.0, 'Average time spent by user_type - Variant Group')"
      ]
     },
     "execution_count": 56,
     "metadata": {
      "tags": []
     },
     "output_type": "execute_result"
    },
    {
     "data": {
      "text/plain": [
       "<matplotlib.axes._subplots.AxesSubplot at 0x7f4bad5bf0f0>"
      ]
     },
     "execution_count": 56,
     "metadata": {
      "tags": []
     },
     "output_type": "execute_result"
    },
    {
     "data": {
      "text/plain": [
       "<matplotlib.lines.Line2D at 0x7f4bab4bb6a0>"
      ]
     },
     "execution_count": 56,
     "metadata": {
      "tags": []
     },
     "output_type": "execute_result"
    },
    {
     "data": {
      "text/plain": [
       "Text(2019-02-06, 1, 'experiment')"
      ]
     },
     "execution_count": 56,
     "metadata": {
      "tags": []
     },
     "output_type": "execute_result"
    },
    {
     "data": {
      "text/plain": [
       "<matplotlib.axes._subplots.AxesSubplot at 0x7f4baacff208>"
      ]
     },
     "execution_count": 56,
     "metadata": {
      "tags": []
     },
     "output_type": "execute_result"
    },
    {
     "data": {
      "text/plain": [
       "Text(0.0, 1.0, 'Average time spent by user_type - Control Group')"
      ]
     },
     "execution_count": 56,
     "metadata": {
      "tags": []
     },
     "output_type": "execute_result"
    },
    {
     "data": {
      "text/plain": [
       "<matplotlib.axes._subplots.AxesSubplot at 0x7f4baacff208>"
      ]
     },
     "execution_count": 56,
     "metadata": {
      "tags": []
     },
     "output_type": "execute_result"
    },
    {
     "data": {
      "text/plain": [
       "<matplotlib.lines.Line2D at 0x7f4bab33e3c8>"
      ]
     },
     "execution_count": 56,
     "metadata": {
      "tags": []
     },
     "output_type": "execute_result"
    },
    {
     "data": {
      "text/plain": [
       "Text(2019-02-06, 2, 'experiment')"
      ]
     },
     "execution_count": 56,
     "metadata": {
      "tags": []
     },
     "output_type": "execute_result"
    },
    {
     "data": {
      "image/png": "[encoded data removed]",
      "text/plain": [
       "<Figure size 1296x576 with 2 Axes>"
      ]
     },
     "metadata": {
      "needs_background": "light",
      "tags": []
     },
     "output_type": "display_data"
    }
   ],
   "source": [
    "plt.figure(figsize=(18,8))\n",
    "plt.subplot(2,1,1)\n",
    "plt.title('Average time spent by user_type - Variant Group',loc='left', fontsize=15)\n",
    "data=daily_usr_1.groupby(['user_type','dt'],as_index=False).active_mins.mean()\n",
    "sns.lineplot(data=data,x='dt',y='active_mins',hue='user_type')\n",
    "#plt.xticks(np.arange(daily_usr_1.dt.min(),daily_usr_1.dt.max(),30))\n",
    "plt.axvline(x = daily_usr_1.experiement_dt.max(), color = 'red')\n",
    "plt.text(x = daily_usr_1.experiement_dt.max(),y=1,s ='experiment', fontsize =15)\n",
    "plt.subplot(2,1,2)\n",
    "plt.title('Average time spent by user_type - Control Group',loc='left',fontsize=15)\n",
    "data=daily_usr_0.groupby(['user_type','dt'],as_index=False).active_mins.mean()\n",
    "sns.lineplot(data=data,x='dt',y='active_mins',hue='user_type')\n",
    "plt.axvline(x = daily_usr_0.experiement_dt.max(), color = 'red')\n",
    "plt.text(x = daily_usr_0.experiement_dt.max(),y=2,s ='experiment', fontsize =15)\n",
    "plt.savefig(\"Time Series Analysis for Average time spent by user_type\")"
   ]
  },
  {
   "cell_type": "markdown",
   "metadata": {
    "id": "qLkgumtuZalg"
   },
   "source": [
    "## Performing Co-variates test\n",
    "\n",
    "### Gender"
   ]
  },
  {
   "cell_type": "code",
   "execution_count": null,
   "metadata": {
    "colab": {
     "base_uri": "https://localhost:8080/"
    },
    "id": "WIJP4zETZXap",
    "outputId": "356d0757-3f88-43d5-e58c-ff061dc672b3"
   },
   "outputs": [
    {
     "name": "stdout",
     "output_type": "stream",
     "text": [
      "male\n",
      "T-results for user type- male\n",
      "Ttest_indResult(statistic=-40.89238052193022, pvalue=0.0)\n",
      "female\n",
      "T-results for user type- female\n",
      "Ttest_indResult(statistic=-26.555714805327135, pvalue=2.506335129311254e-155)\n",
      "unknown\n",
      "T-results for user type- unknown\n",
      "Ttest_indResult(statistic=-1.2571698339802369, pvalue=0.2086927807651504)\n"
     ]
    }
   ],
   "source": [
    "gender = ['male','female','unknown']\n",
    "for user in gender:\n",
    "    print(user)\n",
    "    mean_0_pp = daily_usr_0[daily_usr_0['gender']==user].active_mins.mean()\n",
    "    mean_1_pp = daily_usr_1[daily_usr_1['gender']==user].active_mins.mean()\n",
    "\n",
    "    std_0_pp = daily_usr_0[daily_usr_0['gender']==user].active_mins.std()\n",
    "    std_1_pp = daily_usr_1[daily_usr_1['gender']==user].active_mins.std()\n",
    "\n",
    "    nobs0_pp = daily_usr_0[daily_usr_0['gender']==user].active_mins.count()\n",
    "    nobs1_pp = daily_usr_1[daily_usr_1['gender']==user].active_mins.count()\n",
    "    \n",
    "    print('T-results for user type-',user)\n",
    "    print(ttest_ind_from_stats(mean1=mean_1_pp,std1=std_1_pp,nobs1=nobs1_pp,\n",
    "                     mean2=mean_0_pp,std2=std_0_pp,nobs2=nobs0_pp, equal_var=False))\n"
   ]
  },
  {
   "cell_type": "markdown",
   "metadata": {
    "id": "s8FOBkgHcvRi"
   },
   "source": [
    "### User_Type\n"
   ]
  },
  {
   "cell_type": "code",
   "execution_count": null,
   "metadata": {
    "colab": {
     "base_uri": "https://localhost:8080/"
    },
    "id": "IjIJwt0MZXuA",
    "outputId": "520270af-8bc6-4f31-b383-b2c6649d3efc"
   },
   "outputs": [
    {
     "name": "stdout",
     "output_type": "stream",
     "text": [
      "contributor\n",
      "T-results for user type- contributor\n",
      "Ttest_indResult(statistic=-11.834916226870043, pvalue=2.8930249870937706e-32)\n",
      "reader\n",
      "T-results for user type- reader\n",
      "Ttest_indResult(statistic=0.3316864679767433, pvalue=0.7401261755642135)\n",
      "non_reader\n",
      "T-results for user type- non_reader\n",
      "Ttest_indResult(statistic=34.09324557971776, pvalue=1.0829136072296474e-254)\n"
     ]
    }
   ],
   "source": [
    "user_type = ['non_reader','contributor','reader']\n",
    "for user in user_type:\n",
    "    print(user)\n",
    "\n",
    "    mean_0_pp = daily_usr_0[daily_usr_0['user_type']==user].active_mins.mean()\n",
    "    mean_1_pp = daily_usr_1[daily_usr_1['user_type']==user].active_mins.mean()\n",
    "\n",
    "    std_0_pp = daily_usr_0[daily_usr_0['user_type']==user].active_mins.std()\n",
    "    std_1_pp = daily_usr_1[daily_usr_1['user_type']==user].active_mins.std()\n",
    "\n",
    "    nobs0_pp = daily_usr_0[daily_usr_0['user_type']==user].active_mins.count()\n",
    "    nobs1_pp = daily_usr_1[daily_usr_1['user_type']==user].active_mins.count()\n",
    "    \n",
    "    print('T-results for user type-',user)\n",
    "    print(ttest_ind_from_stats(mean1=mean_1_pp,std1=std_1_pp,nobs1=nobs1_pp,\n",
    "                     mean2=mean_0_pp,std2=std_0_pp,nobs2=nobs0_pp, equal_var=False))\n",
    "\n"
   ]
  },
  {
   "cell_type": "code",
   "execution_count": null,
   "metadata": {
    "id": "HdE6sNXYnjwH"
   },
   "outputs": [],
   "source": []
  },
  {
   "cell_type": "code",
   "execution_count": null,
   "metadata": {
    "id": "xWJSF-KaZXzi"
   },
   "outputs": [],
   "source": []
  },
  {
   "cell_type": "code",
   "execution_count": null,
   "metadata": {
    "id": "JHc_hYeEH1-F"
   },
   "outputs": [],
   "source": []
  },
  {
   "cell_type": "code",
   "execution_count": null,
   "metadata": {
    "id": "RMoZxeRZH1-I",
    "scrolled": true
   },
   "outputs": [],
   "source": []
  },
  {
   "cell_type": "code",
   "execution_count": null,
   "metadata": {
    "id": "cmX9e3tPH1-L",
    "scrolled": true
   },
   "outputs": [],
   "source": []
  }
 ],
 "metadata": {
  "colab": {
   "collapsed_sections": [],
   "name": "Quora_DataChallenge.ipynb",
   "provenance": [],
   "toc_visible": true
  },
  "kernelspec": {
   "display_name": "Python 3",
   "language": "python",
   "name": "python3"
  },
  "language_info": {
   "codemirror_mode": {
    "name": "ipython",
    "version": 3
   },
   "file_extension": ".py",
   "mimetype": "text/x-python",
   "name": "python",
   "nbconvert_exporter": "python",
   "pygments_lexer": "ipython3",
   "version": "3.6.7"
  }
 },
 "nbformat": 4,
 "nbformat_minor": 1
}
